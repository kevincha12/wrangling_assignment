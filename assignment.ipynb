{
 "cells": [
  {
   "cell_type": "markdown",
   "id": "13ad028b-72b7-43ed-aa78-96fd4e518040",
   "metadata": {
    "id": "13ad028b-72b7-43ed-aa78-96fd4e518040"
   },
   "source": [
    "# Assignment: Data Wrangling\n",
    "### `! git clone https://github.com/ds3001f25/wrangling_assignment.git`\n",
    "### Do Q1 and Q2\n",
    "### Reading material: `tidy_data.pdf`"
   ]
  },
  {
   "cell_type": "markdown",
   "id": "99379d51",
   "metadata": {},
   "source": [
    "## Imports & Setup"
   ]
  },
  {
   "cell_type": "code",
   "execution_count": 1,
   "id": "32220ba1",
   "metadata": {},
   "outputs": [],
   "source": [
    "import pandas as pd\n",
    "import numpy as np\n",
    "import matplotlib.pyplot as plt"
   ]
  },
  {
   "cell_type": "markdown",
   "id": "98f02f87",
   "metadata": {},
   "source": [
    "## Q1 Stuff"
   ]
  },
  {
   "cell_type": "markdown",
   "id": "da879ea7-8aac-48a3-b6c2-daea56d2e072",
   "metadata": {
    "id": "da879ea7-8aac-48a3-b6c2-daea56d2e072"
   },
   "source": [
    "**Q1.** This question provides some practice cleaning variables which have common problems.\n",
    "1. Numeric variable: For `./data/airbnb_hw.csv`, clean the `Price` variable as well as you can, and explain the choices you make. How many missing values do you end up with? (Hint: What happens to the formatting when a price goes over 999 dollars, say from 675 to 1,112?)\n",
    "2. Categorical variable: For the Minnesota police use of for data, `./data/mn_police_use_of_force.csv`, clean the `subject_injury` variable, handling the NA's; this gives a value `Yes` when a person was injured by police, and `No` when no injury occurred. What proportion of the values are missing? Is this a concern? Cross-tabulate your cleaned `subject_injury` variable with the `force_type` variable. Are there any patterns regarding when the data are missing? \n",
    "3. Dummy variable: For the pretrial data covered in the lecture `./data/justice_data.parquet`, clean the `WhetherDefendantWasReleasedPretrial` variable as well as you can, and, in particular, replace missing values with `np.nan`.\n",
    "4. Missing values, not at random: For the pretrial data covered in the lecture, clean the `ImposedSentenceAllChargeInContactEvent` variable as well as you can, and explain the choices you make. (Hint: Look at the `SentenceTypeAllChargesAtConvictionInContactEvent` variable.)"
   ]
  },
  {
   "cell_type": "markdown",
   "id": "b7591895",
   "metadata": {},
   "source": [
    "#### Code Segment + Analysis for Q1.1"
   ]
  },
  {
   "cell_type": "code",
   "execution_count": 2,
   "id": "d784f0a8",
   "metadata": {},
   "outputs": [],
   "source": [
    "airbnb_path = './data/airbnb_hw.csv'\n",
    "airbnb_df = pd.read_csv(airbnb_path)"
   ]
  },
  {
   "cell_type": "code",
   "execution_count": 3,
   "id": "05a9a27f",
   "metadata": {},
   "outputs": [
    {
     "data": {
      "text/html": [
       "<div>\n",
       "<style scoped>\n",
       "    .dataframe tbody tr th:only-of-type {\n",
       "        vertical-align: middle;\n",
       "    }\n",
       "\n",
       "    .dataframe tbody tr th {\n",
       "        vertical-align: top;\n",
       "    }\n",
       "\n",
       "    .dataframe thead th {\n",
       "        text-align: right;\n",
       "    }\n",
       "</style>\n",
       "<table border=\"1\" class=\"dataframe\">\n",
       "  <thead>\n",
       "    <tr style=\"text-align: right;\">\n",
       "      <th></th>\n",
       "      <th>Host Id</th>\n",
       "      <th>Host Since</th>\n",
       "      <th>Name</th>\n",
       "      <th>Neighbourhood</th>\n",
       "      <th>Property Type</th>\n",
       "      <th>Review Scores Rating (bin)</th>\n",
       "      <th>Room Type</th>\n",
       "      <th>Zipcode</th>\n",
       "      <th>Beds</th>\n",
       "      <th>Number of Records</th>\n",
       "      <th>Number Of Reviews</th>\n",
       "      <th>Price</th>\n",
       "      <th>Review Scores Rating</th>\n",
       "    </tr>\n",
       "  </thead>\n",
       "  <tbody>\n",
       "    <tr>\n",
       "      <th>0</th>\n",
       "      <td>5162530</td>\n",
       "      <td>NaN</td>\n",
       "      <td>1 Bedroom in Prime Williamsburg</td>\n",
       "      <td>Brooklyn</td>\n",
       "      <td>Apartment</td>\n",
       "      <td>NaN</td>\n",
       "      <td>Entire home/apt</td>\n",
       "      <td>11249.0</td>\n",
       "      <td>1.0</td>\n",
       "      <td>1</td>\n",
       "      <td>0</td>\n",
       "      <td>145</td>\n",
       "      <td>NaN</td>\n",
       "    </tr>\n",
       "    <tr>\n",
       "      <th>1</th>\n",
       "      <td>33134899</td>\n",
       "      <td>NaN</td>\n",
       "      <td>Sunny, Private room in Bushwick</td>\n",
       "      <td>Brooklyn</td>\n",
       "      <td>Apartment</td>\n",
       "      <td>NaN</td>\n",
       "      <td>Private room</td>\n",
       "      <td>11206.0</td>\n",
       "      <td>1.0</td>\n",
       "      <td>1</td>\n",
       "      <td>1</td>\n",
       "      <td>37</td>\n",
       "      <td>NaN</td>\n",
       "    </tr>\n",
       "    <tr>\n",
       "      <th>2</th>\n",
       "      <td>39608626</td>\n",
       "      <td>NaN</td>\n",
       "      <td>Sunny Room in Harlem</td>\n",
       "      <td>Manhattan</td>\n",
       "      <td>Apartment</td>\n",
       "      <td>NaN</td>\n",
       "      <td>Private room</td>\n",
       "      <td>10032.0</td>\n",
       "      <td>1.0</td>\n",
       "      <td>1</td>\n",
       "      <td>1</td>\n",
       "      <td>28</td>\n",
       "      <td>NaN</td>\n",
       "    </tr>\n",
       "    <tr>\n",
       "      <th>3</th>\n",
       "      <td>500</td>\n",
       "      <td>6/26/2008</td>\n",
       "      <td>Gorgeous 1 BR with Private Balcony</td>\n",
       "      <td>Manhattan</td>\n",
       "      <td>Apartment</td>\n",
       "      <td>NaN</td>\n",
       "      <td>Entire home/apt</td>\n",
       "      <td>10024.0</td>\n",
       "      <td>3.0</td>\n",
       "      <td>1</td>\n",
       "      <td>0</td>\n",
       "      <td>199</td>\n",
       "      <td>NaN</td>\n",
       "    </tr>\n",
       "    <tr>\n",
       "      <th>4</th>\n",
       "      <td>500</td>\n",
       "      <td>6/26/2008</td>\n",
       "      <td>Trendy Times Square Loft</td>\n",
       "      <td>Manhattan</td>\n",
       "      <td>Apartment</td>\n",
       "      <td>95.0</td>\n",
       "      <td>Private room</td>\n",
       "      <td>10036.0</td>\n",
       "      <td>3.0</td>\n",
       "      <td>1</td>\n",
       "      <td>39</td>\n",
       "      <td>549</td>\n",
       "      <td>96.0</td>\n",
       "    </tr>\n",
       "  </tbody>\n",
       "</table>\n",
       "</div>"
      ],
      "text/plain": [
       "    Host Id Host Since                                Name Neighbourhood   \\\n",
       "0   5162530        NaN     1 Bedroom in Prime Williamsburg       Brooklyn   \n",
       "1  33134899        NaN     Sunny, Private room in Bushwick       Brooklyn   \n",
       "2  39608626        NaN                Sunny Room in Harlem      Manhattan   \n",
       "3       500  6/26/2008  Gorgeous 1 BR with Private Balcony      Manhattan   \n",
       "4       500  6/26/2008            Trendy Times Square Loft      Manhattan   \n",
       "\n",
       "  Property Type  Review Scores Rating (bin)        Room Type  Zipcode  Beds  \\\n",
       "0     Apartment                         NaN  Entire home/apt  11249.0   1.0   \n",
       "1     Apartment                         NaN     Private room  11206.0   1.0   \n",
       "2     Apartment                         NaN     Private room  10032.0   1.0   \n",
       "3     Apartment                         NaN  Entire home/apt  10024.0   3.0   \n",
       "4     Apartment                        95.0     Private room  10036.0   3.0   \n",
       "\n",
       "   Number of Records  Number Of Reviews Price  Review Scores Rating  \n",
       "0                  1                  0   145                   NaN  \n",
       "1                  1                  1    37                   NaN  \n",
       "2                  1                  1    28                   NaN  \n",
       "3                  1                  0   199                   NaN  \n",
       "4                  1                 39   549                  96.0  "
      ]
     },
     "execution_count": 3,
     "metadata": {},
     "output_type": "execute_result"
    }
   ],
   "source": [
    "airbnb_df.head()"
   ]
  },
  {
   "cell_type": "markdown",
   "id": "fdd28709",
   "metadata": {},
   "source": [
    "Well, the hint mentioned missing value checking, so let's do that."
   ]
  },
  {
   "cell_type": "code",
   "execution_count": 4,
   "id": "8b9670d4",
   "metadata": {},
   "outputs": [
    {
     "data": {
      "text/plain": [
       "Host Id                          0\n",
       "Host Since                       3\n",
       "Name                             0\n",
       "Neighbourhood                    0\n",
       "Property Type                    3\n",
       "Review Scores Rating (bin)    8323\n",
       "Room Type                        0\n",
       "Zipcode                        134\n",
       "Beds                            85\n",
       "Number of Records                0\n",
       "Number Of Reviews                0\n",
       "Price                            0\n",
       "Review Scores Rating          8323\n",
       "dtype: int64"
      ]
     },
     "execution_count": 4,
     "metadata": {},
     "output_type": "execute_result"
    }
   ],
   "source": [
    "airbnb_df.isnull().sum()"
   ]
  },
  {
   "cell_type": "markdown",
   "id": "43069455",
   "metadata": {},
   "source": [
    "Doesn't look like there are actually any nulls for the Price column, so the first thing I always like doing when cleaning data is get a feel with the info & describe func to see how the values range."
   ]
  },
  {
   "cell_type": "code",
   "execution_count": 5,
   "id": "2736e40b",
   "metadata": {},
   "outputs": [
    {
     "name": "stdout",
     "output_type": "stream",
     "text": [
      "<class 'pandas.core.frame.DataFrame'>\n",
      "RangeIndex: 30478 entries, 0 to 30477\n",
      "Data columns (total 13 columns):\n",
      " #   Column                      Non-Null Count  Dtype  \n",
      "---  ------                      --------------  -----  \n",
      " 0   Host Id                     30478 non-null  int64  \n",
      " 1   Host Since                  30475 non-null  object \n",
      " 2   Name                        30478 non-null  object \n",
      " 3   Neighbourhood               30478 non-null  object \n",
      " 4   Property Type               30475 non-null  object \n",
      " 5   Review Scores Rating (bin)  22155 non-null  float64\n",
      " 6   Room Type                   30478 non-null  object \n",
      " 7   Zipcode                     30344 non-null  float64\n",
      " 8   Beds                        30393 non-null  float64\n",
      " 9   Number of Records           30478 non-null  int64  \n",
      " 10  Number Of Reviews           30478 non-null  int64  \n",
      " 11  Price                       30478 non-null  object \n",
      " 12  Review Scores Rating        22155 non-null  float64\n",
      "dtypes: float64(4), int64(3), object(6)\n",
      "memory usage: 3.0+ MB\n"
     ]
    }
   ],
   "source": [
    "airbnb_df.info()"
   ]
  },
  {
   "cell_type": "markdown",
   "id": "4f7b0df1",
   "metadata": {},
   "source": [
    "Ahhh... the `Price` column is encoded as an object (or string). This is probably what the hint alluded to. My guess is that there's probably commas manually put in to express numbers > 999, so they're put as strings like \"1,000\" instead of just \"1000\". Let's test that theory.\n",
    "\n",
    "POST EDIT: Yeah so I ran the following code; \\\n",
    "test = pd.to_numeric(airbnb_df['Price'])  \\\n",
    "and it gave me an error stating \"Unable to parse string \"1,990\"\". So yeah, I was right. No problem, just need to regex that part out."
   ]
  },
  {
   "cell_type": "code",
   "execution_count": 6,
   "id": "ed7f3dc4",
   "metadata": {},
   "outputs": [
    {
     "data": {
      "text/plain": [
       "'1,990'"
      ]
     },
     "execution_count": 6,
     "metadata": {},
     "output_type": "execute_result"
    }
   ],
   "source": [
    "# As proof that there is, in fact, a comma in the Price column :)\n",
    "airbnb_df['Price'][101]"
   ]
  },
  {
   "cell_type": "code",
   "execution_count": 7,
   "id": "67e8ea43",
   "metadata": {},
   "outputs": [],
   "source": [
    "modified_airbnb_df = airbnb_df.copy()\n",
    "modified_airbnb_df['Price'] = modified_airbnb_df['Price'].replace({r',': ''}, regex=True)"
   ]
  },
  {
   "cell_type": "markdown",
   "id": "48854243",
   "metadata": {},
   "source": [
    "Ok, NOW let's try doing the to_numeric thing from earlier."
   ]
  },
  {
   "cell_type": "code",
   "execution_count": 8,
   "id": "1eb714e0",
   "metadata": {},
   "outputs": [],
   "source": [
    "modified_airbnb_df['Price'] = pd.to_numeric(modified_airbnb_df['Price'])"
   ]
  },
  {
   "cell_type": "markdown",
   "id": "0f47c74d",
   "metadata": {},
   "source": [
    "And with any luck, we should see that it's now a numeric!"
   ]
  },
  {
   "cell_type": "code",
   "execution_count": 9,
   "id": "6ae23f08",
   "metadata": {},
   "outputs": [
    {
     "name": "stdout",
     "output_type": "stream",
     "text": [
      "<class 'pandas.core.frame.DataFrame'>\n",
      "RangeIndex: 30478 entries, 0 to 30477\n",
      "Data columns (total 13 columns):\n",
      " #   Column                      Non-Null Count  Dtype  \n",
      "---  ------                      --------------  -----  \n",
      " 0   Host Id                     30478 non-null  int64  \n",
      " 1   Host Since                  30475 non-null  object \n",
      " 2   Name                        30478 non-null  object \n",
      " 3   Neighbourhood               30478 non-null  object \n",
      " 4   Property Type               30475 non-null  object \n",
      " 5   Review Scores Rating (bin)  22155 non-null  float64\n",
      " 6   Room Type                   30478 non-null  object \n",
      " 7   Zipcode                     30344 non-null  float64\n",
      " 8   Beds                        30393 non-null  float64\n",
      " 9   Number of Records           30478 non-null  int64  \n",
      " 10  Number Of Reviews           30478 non-null  int64  \n",
      " 11  Price                       30478 non-null  int64  \n",
      " 12  Review Scores Rating        22155 non-null  float64\n",
      "dtypes: float64(4), int64(4), object(5)\n",
      "memory usage: 3.0+ MB\n"
     ]
    }
   ],
   "source": [
    "modified_airbnb_df.info()"
   ]
  },
  {
   "cell_type": "code",
   "execution_count": 10,
   "id": "79e28b22",
   "metadata": {},
   "outputs": [
    {
     "data": {
      "text/html": [
       "<div>\n",
       "<style scoped>\n",
       "    .dataframe tbody tr th:only-of-type {\n",
       "        vertical-align: middle;\n",
       "    }\n",
       "\n",
       "    .dataframe tbody tr th {\n",
       "        vertical-align: top;\n",
       "    }\n",
       "\n",
       "    .dataframe thead th {\n",
       "        text-align: right;\n",
       "    }\n",
       "</style>\n",
       "<table border=\"1\" class=\"dataframe\">\n",
       "  <thead>\n",
       "    <tr style=\"text-align: right;\">\n",
       "      <th></th>\n",
       "      <th>Host Id</th>\n",
       "      <th>Review Scores Rating (bin)</th>\n",
       "      <th>Zipcode</th>\n",
       "      <th>Beds</th>\n",
       "      <th>Number of Records</th>\n",
       "      <th>Number Of Reviews</th>\n",
       "      <th>Price</th>\n",
       "      <th>Review Scores Rating</th>\n",
       "    </tr>\n",
       "  </thead>\n",
       "  <tbody>\n",
       "    <tr>\n",
       "      <th>count</th>\n",
       "      <td>3.047800e+04</td>\n",
       "      <td>22155.000000</td>\n",
       "      <td>30344.000000</td>\n",
       "      <td>30393.000000</td>\n",
       "      <td>30478.0</td>\n",
       "      <td>30478.000000</td>\n",
       "      <td>30478.000000</td>\n",
       "      <td>22155.000000</td>\n",
       "    </tr>\n",
       "    <tr>\n",
       "      <th>mean</th>\n",
       "      <td>1.273171e+07</td>\n",
       "      <td>90.738659</td>\n",
       "      <td>10584.854831</td>\n",
       "      <td>1.530089</td>\n",
       "      <td>1.0</td>\n",
       "      <td>12.018735</td>\n",
       "      <td>163.589737</td>\n",
       "      <td>91.993230</td>\n",
       "    </tr>\n",
       "    <tr>\n",
       "      <th>std</th>\n",
       "      <td>1.190270e+07</td>\n",
       "      <td>9.059519</td>\n",
       "      <td>921.299397</td>\n",
       "      <td>1.015359</td>\n",
       "      <td>0.0</td>\n",
       "      <td>21.980703</td>\n",
       "      <td>197.785454</td>\n",
       "      <td>8.850373</td>\n",
       "    </tr>\n",
       "    <tr>\n",
       "      <th>min</th>\n",
       "      <td>5.000000e+02</td>\n",
       "      <td>20.000000</td>\n",
       "      <td>1003.000000</td>\n",
       "      <td>0.000000</td>\n",
       "      <td>1.0</td>\n",
       "      <td>0.000000</td>\n",
       "      <td>10.000000</td>\n",
       "      <td>20.000000</td>\n",
       "    </tr>\n",
       "    <tr>\n",
       "      <th>25%</th>\n",
       "      <td>2.701298e+06</td>\n",
       "      <td>85.000000</td>\n",
       "      <td>10017.000000</td>\n",
       "      <td>1.000000</td>\n",
       "      <td>1.0</td>\n",
       "      <td>0.000000</td>\n",
       "      <td>80.000000</td>\n",
       "      <td>89.000000</td>\n",
       "    </tr>\n",
       "    <tr>\n",
       "      <th>50%</th>\n",
       "      <td>8.551693e+06</td>\n",
       "      <td>90.000000</td>\n",
       "      <td>10065.000000</td>\n",
       "      <td>1.000000</td>\n",
       "      <td>1.0</td>\n",
       "      <td>3.000000</td>\n",
       "      <td>125.000000</td>\n",
       "      <td>94.000000</td>\n",
       "    </tr>\n",
       "    <tr>\n",
       "      <th>75%</th>\n",
       "      <td>2.120617e+07</td>\n",
       "      <td>100.000000</td>\n",
       "      <td>11216.000000</td>\n",
       "      <td>2.000000</td>\n",
       "      <td>1.0</td>\n",
       "      <td>13.000000</td>\n",
       "      <td>195.000000</td>\n",
       "      <td>100.000000</td>\n",
       "    </tr>\n",
       "    <tr>\n",
       "      <th>max</th>\n",
       "      <td>4.303307e+07</td>\n",
       "      <td>100.000000</td>\n",
       "      <td>99135.000000</td>\n",
       "      <td>16.000000</td>\n",
       "      <td>1.0</td>\n",
       "      <td>257.000000</td>\n",
       "      <td>10000.000000</td>\n",
       "      <td>100.000000</td>\n",
       "    </tr>\n",
       "  </tbody>\n",
       "</table>\n",
       "</div>"
      ],
      "text/plain": [
       "            Host Id  Review Scores Rating (bin)       Zipcode          Beds  \\\n",
       "count  3.047800e+04                22155.000000  30344.000000  30393.000000   \n",
       "mean   1.273171e+07                   90.738659  10584.854831      1.530089   \n",
       "std    1.190270e+07                    9.059519    921.299397      1.015359   \n",
       "min    5.000000e+02                   20.000000   1003.000000      0.000000   \n",
       "25%    2.701298e+06                   85.000000  10017.000000      1.000000   \n",
       "50%    8.551693e+06                   90.000000  10065.000000      1.000000   \n",
       "75%    2.120617e+07                  100.000000  11216.000000      2.000000   \n",
       "max    4.303307e+07                  100.000000  99135.000000     16.000000   \n",
       "\n",
       "       Number of Records  Number Of Reviews         Price  \\\n",
       "count            30478.0       30478.000000  30478.000000   \n",
       "mean                 1.0          12.018735    163.589737   \n",
       "std                  0.0          21.980703    197.785454   \n",
       "min                  1.0           0.000000     10.000000   \n",
       "25%                  1.0           0.000000     80.000000   \n",
       "50%                  1.0           3.000000    125.000000   \n",
       "75%                  1.0          13.000000    195.000000   \n",
       "max                  1.0         257.000000  10000.000000   \n",
       "\n",
       "       Review Scores Rating  \n",
       "count          22155.000000  \n",
       "mean              91.993230  \n",
       "std                8.850373  \n",
       "min               20.000000  \n",
       "25%               89.000000  \n",
       "50%               94.000000  \n",
       "75%              100.000000  \n",
       "max              100.000000  "
      ]
     },
     "execution_count": 10,
     "metadata": {},
     "output_type": "execute_result"
    }
   ],
   "source": [
    "modified_airbnb_df.describe()"
   ]
  },
  {
   "cell_type": "code",
   "execution_count": 11,
   "id": "99031431",
   "metadata": {},
   "outputs": [
    {
     "data": {
      "text/plain": [
       "np.int64(0)"
      ]
     },
     "execution_count": 11,
     "metadata": {},
     "output_type": "execute_result"
    }
   ],
   "source": [
    "modified_airbnb_df['Price'].isnull().sum()"
   ]
  },
  {
   "cell_type": "markdown",
   "id": "0361704c",
   "metadata": {},
   "source": [
    "And just to finalize the check, let's make sure that index 101 is 1990 with no comma this time."
   ]
  },
  {
   "cell_type": "code",
   "execution_count": 12,
   "id": "7d317a92",
   "metadata": {},
   "outputs": [
    {
     "data": {
      "text/plain": [
       "np.int64(1990)"
      ]
     },
     "execution_count": 12,
     "metadata": {},
     "output_type": "execute_result"
    }
   ],
   "source": [
    "modified_airbnb_df['Price'][101]"
   ]
  },
  {
   "cell_type": "code",
   "execution_count": 13,
   "id": "4d3ab208",
   "metadata": {},
   "outputs": [
    {
     "data": {
      "text/html": [
       "<div>\n",
       "<style scoped>\n",
       "    .dataframe tbody tr th:only-of-type {\n",
       "        vertical-align: middle;\n",
       "    }\n",
       "\n",
       "    .dataframe tbody tr th {\n",
       "        vertical-align: top;\n",
       "    }\n",
       "\n",
       "    .dataframe thead th {\n",
       "        text-align: right;\n",
       "    }\n",
       "</style>\n",
       "<table border=\"1\" class=\"dataframe\">\n",
       "  <thead>\n",
       "    <tr style=\"text-align: right;\">\n",
       "      <th></th>\n",
       "      <th>Host Id</th>\n",
       "      <th>Host Since</th>\n",
       "      <th>Name</th>\n",
       "      <th>Neighbourhood</th>\n",
       "      <th>Property Type</th>\n",
       "      <th>Review Scores Rating (bin)</th>\n",
       "      <th>Room Type</th>\n",
       "      <th>Zipcode</th>\n",
       "      <th>Beds</th>\n",
       "      <th>Number of Records</th>\n",
       "      <th>Number Of Reviews</th>\n",
       "      <th>Price</th>\n",
       "      <th>Review Scores Rating</th>\n",
       "    </tr>\n",
       "  </thead>\n",
       "  <tbody>\n",
       "    <tr>\n",
       "      <th>0</th>\n",
       "      <td>5162530</td>\n",
       "      <td>NaN</td>\n",
       "      <td>1 Bedroom in Prime Williamsburg</td>\n",
       "      <td>Brooklyn</td>\n",
       "      <td>Apartment</td>\n",
       "      <td>NaN</td>\n",
       "      <td>Entire home/apt</td>\n",
       "      <td>11249.0</td>\n",
       "      <td>1.0</td>\n",
       "      <td>1</td>\n",
       "      <td>0</td>\n",
       "      <td>145</td>\n",
       "      <td>NaN</td>\n",
       "    </tr>\n",
       "    <tr>\n",
       "      <th>1</th>\n",
       "      <td>33134899</td>\n",
       "      <td>NaN</td>\n",
       "      <td>Sunny, Private room in Bushwick</td>\n",
       "      <td>Brooklyn</td>\n",
       "      <td>Apartment</td>\n",
       "      <td>NaN</td>\n",
       "      <td>Private room</td>\n",
       "      <td>11206.0</td>\n",
       "      <td>1.0</td>\n",
       "      <td>1</td>\n",
       "      <td>1</td>\n",
       "      <td>37</td>\n",
       "      <td>NaN</td>\n",
       "    </tr>\n",
       "    <tr>\n",
       "      <th>2</th>\n",
       "      <td>39608626</td>\n",
       "      <td>NaN</td>\n",
       "      <td>Sunny Room in Harlem</td>\n",
       "      <td>Manhattan</td>\n",
       "      <td>Apartment</td>\n",
       "      <td>NaN</td>\n",
       "      <td>Private room</td>\n",
       "      <td>10032.0</td>\n",
       "      <td>1.0</td>\n",
       "      <td>1</td>\n",
       "      <td>1</td>\n",
       "      <td>28</td>\n",
       "      <td>NaN</td>\n",
       "    </tr>\n",
       "    <tr>\n",
       "      <th>3</th>\n",
       "      <td>500</td>\n",
       "      <td>6/26/2008</td>\n",
       "      <td>Gorgeous 1 BR with Private Balcony</td>\n",
       "      <td>Manhattan</td>\n",
       "      <td>Apartment</td>\n",
       "      <td>NaN</td>\n",
       "      <td>Entire home/apt</td>\n",
       "      <td>10024.0</td>\n",
       "      <td>3.0</td>\n",
       "      <td>1</td>\n",
       "      <td>0</td>\n",
       "      <td>199</td>\n",
       "      <td>NaN</td>\n",
       "    </tr>\n",
       "    <tr>\n",
       "      <th>4</th>\n",
       "      <td>500</td>\n",
       "      <td>6/26/2008</td>\n",
       "      <td>Trendy Times Square Loft</td>\n",
       "      <td>Manhattan</td>\n",
       "      <td>Apartment</td>\n",
       "      <td>95.0</td>\n",
       "      <td>Private room</td>\n",
       "      <td>10036.0</td>\n",
       "      <td>3.0</td>\n",
       "      <td>1</td>\n",
       "      <td>39</td>\n",
       "      <td>549</td>\n",
       "      <td>96.0</td>\n",
       "    </tr>\n",
       "  </tbody>\n",
       "</table>\n",
       "</div>"
      ],
      "text/plain": [
       "    Host Id Host Since                                Name Neighbourhood   \\\n",
       "0   5162530        NaN     1 Bedroom in Prime Williamsburg       Brooklyn   \n",
       "1  33134899        NaN     Sunny, Private room in Bushwick       Brooklyn   \n",
       "2  39608626        NaN                Sunny Room in Harlem      Manhattan   \n",
       "3       500  6/26/2008  Gorgeous 1 BR with Private Balcony      Manhattan   \n",
       "4       500  6/26/2008            Trendy Times Square Loft      Manhattan   \n",
       "\n",
       "  Property Type  Review Scores Rating (bin)        Room Type  Zipcode  Beds  \\\n",
       "0     Apartment                         NaN  Entire home/apt  11249.0   1.0   \n",
       "1     Apartment                         NaN     Private room  11206.0   1.0   \n",
       "2     Apartment                         NaN     Private room  10032.0   1.0   \n",
       "3     Apartment                         NaN  Entire home/apt  10024.0   3.0   \n",
       "4     Apartment                        95.0     Private room  10036.0   3.0   \n",
       "\n",
       "   Number of Records  Number Of Reviews  Price  Review Scores Rating  \n",
       "0                  1                  0    145                   NaN  \n",
       "1                  1                  1     37                   NaN  \n",
       "2                  1                  1     28                   NaN  \n",
       "3                  1                  0    199                   NaN  \n",
       "4                  1                 39    549                  96.0  "
      ]
     },
     "execution_count": 13,
     "metadata": {},
     "output_type": "execute_result"
    }
   ],
   "source": [
    "modified_airbnb_df.head()"
   ]
  },
  {
   "cell_type": "markdown",
   "id": "009f9342",
   "metadata": {},
   "source": [
    "In conclusion, there weren't any missing values, it was just that the `Price` column happened to be dtype object instead of dtype int. Attempting to cast the `Price` column to numerics caused an error stating that there was an inconvertible string \"1,990\", which told me that I needed to clean the values by removing commas from values >999. Doing so with regex replacement and then converting to numeric did the job, and I have saved this modified data into a separate df called `modified_airbnb_df` to not overwrite the old df."
   ]
  },
  {
   "cell_type": "markdown",
   "id": "d716201b",
   "metadata": {},
   "source": [
    "#### Code Segment + Analysis for Q1.2"
   ]
  },
  {
   "cell_type": "code",
   "execution_count": 14,
   "id": "d28ddfbf",
   "metadata": {},
   "outputs": [],
   "source": [
    "police_use_path = './data/mn_police_use_of_force.csv'\n",
    "police_use_df = pd.read_csv(police_use_path)"
   ]
  },
  {
   "cell_type": "code",
   "execution_count": 15,
   "id": "26e1e37f",
   "metadata": {},
   "outputs": [
    {
     "data": {
      "text/html": [
       "<div>\n",
       "<style scoped>\n",
       "    .dataframe tbody tr th:only-of-type {\n",
       "        vertical-align: middle;\n",
       "    }\n",
       "\n",
       "    .dataframe tbody tr th {\n",
       "        vertical-align: top;\n",
       "    }\n",
       "\n",
       "    .dataframe thead th {\n",
       "        text-align: right;\n",
       "    }\n",
       "</style>\n",
       "<table border=\"1\" class=\"dataframe\">\n",
       "  <thead>\n",
       "    <tr style=\"text-align: right;\">\n",
       "      <th></th>\n",
       "      <th>response_datetime</th>\n",
       "      <th>problem</th>\n",
       "      <th>is_911_call</th>\n",
       "      <th>primary_offense</th>\n",
       "      <th>subject_injury</th>\n",
       "      <th>force_type</th>\n",
       "      <th>force_type_action</th>\n",
       "      <th>race</th>\n",
       "      <th>sex</th>\n",
       "      <th>age</th>\n",
       "      <th>type_resistance</th>\n",
       "      <th>precinct</th>\n",
       "      <th>neighborhood</th>\n",
       "    </tr>\n",
       "  </thead>\n",
       "  <tbody>\n",
       "    <tr>\n",
       "      <th>0</th>\n",
       "      <td>2016/01/01 00:47:36</td>\n",
       "      <td>Assault in Progress</td>\n",
       "      <td>Yes</td>\n",
       "      <td>DASLT1</td>\n",
       "      <td>NaN</td>\n",
       "      <td>Bodily Force</td>\n",
       "      <td>Body Weight to Pin</td>\n",
       "      <td>Black</td>\n",
       "      <td>Male</td>\n",
       "      <td>20.0</td>\n",
       "      <td>Tensed</td>\n",
       "      <td>1</td>\n",
       "      <td>Downtown East</td>\n",
       "    </tr>\n",
       "    <tr>\n",
       "      <th>1</th>\n",
       "      <td>2016/01/01 02:19:34</td>\n",
       "      <td>Fight</td>\n",
       "      <td>No</td>\n",
       "      <td>DISCON</td>\n",
       "      <td>NaN</td>\n",
       "      <td>Chemical Irritant</td>\n",
       "      <td>Personal Mace</td>\n",
       "      <td>Black</td>\n",
       "      <td>Female</td>\n",
       "      <td>27.0</td>\n",
       "      <td>Verbal Non-Compliance</td>\n",
       "      <td>1</td>\n",
       "      <td>Downtown West</td>\n",
       "    </tr>\n",
       "    <tr>\n",
       "      <th>2</th>\n",
       "      <td>2016/01/01 02:19:34</td>\n",
       "      <td>Fight</td>\n",
       "      <td>No</td>\n",
       "      <td>DISCON</td>\n",
       "      <td>NaN</td>\n",
       "      <td>Chemical Irritant</td>\n",
       "      <td>Personal Mace</td>\n",
       "      <td>White</td>\n",
       "      <td>Female</td>\n",
       "      <td>23.0</td>\n",
       "      <td>Verbal Non-Compliance</td>\n",
       "      <td>1</td>\n",
       "      <td>Downtown West</td>\n",
       "    </tr>\n",
       "    <tr>\n",
       "      <th>3</th>\n",
       "      <td>2016/01/01 02:28:48</td>\n",
       "      <td>Fight</td>\n",
       "      <td>No</td>\n",
       "      <td>PRIORI</td>\n",
       "      <td>NaN</td>\n",
       "      <td>Chemical Irritant</td>\n",
       "      <td>Crowd Control Mace</td>\n",
       "      <td>Black</td>\n",
       "      <td>Male</td>\n",
       "      <td>20.0</td>\n",
       "      <td>Commission of Crime</td>\n",
       "      <td>1</td>\n",
       "      <td>Downtown West</td>\n",
       "    </tr>\n",
       "    <tr>\n",
       "      <th>4</th>\n",
       "      <td>2016/01/01 02:28:48</td>\n",
       "      <td>Fight</td>\n",
       "      <td>No</td>\n",
       "      <td>PRIORI</td>\n",
       "      <td>NaN</td>\n",
       "      <td>Chemical Irritant</td>\n",
       "      <td>Crowd Control Mace</td>\n",
       "      <td>Black</td>\n",
       "      <td>Male</td>\n",
       "      <td>20.0</td>\n",
       "      <td>Commission of Crime</td>\n",
       "      <td>1</td>\n",
       "      <td>Downtown West</td>\n",
       "    </tr>\n",
       "  </tbody>\n",
       "</table>\n",
       "</div>"
      ],
      "text/plain": [
       "     response_datetime               problem is_911_call primary_offense  \\\n",
       "0  2016/01/01 00:47:36  Assault in Progress          Yes          DASLT1   \n",
       "1  2016/01/01 02:19:34                Fight           No          DISCON   \n",
       "2  2016/01/01 02:19:34                Fight           No          DISCON   \n",
       "3  2016/01/01 02:28:48                Fight           No          PRIORI   \n",
       "4  2016/01/01 02:28:48                Fight           No          PRIORI   \n",
       "\n",
       "  subject_injury         force_type   force_type_action   race     sex   age  \\\n",
       "0            NaN       Bodily Force  Body Weight to Pin  Black    Male  20.0   \n",
       "1            NaN  Chemical Irritant       Personal Mace  Black  Female  27.0   \n",
       "2            NaN  Chemical Irritant       Personal Mace  White  Female  23.0   \n",
       "3            NaN  Chemical Irritant  Crowd Control Mace  Black    Male  20.0   \n",
       "4            NaN  Chemical Irritant  Crowd Control Mace  Black    Male  20.0   \n",
       "\n",
       "         type_resistance  precinct   neighborhood  \n",
       "0                 Tensed         1  Downtown East  \n",
       "1  Verbal Non-Compliance         1  Downtown West  \n",
       "2  Verbal Non-Compliance         1  Downtown West  \n",
       "3    Commission of Crime         1  Downtown West  \n",
       "4    Commission of Crime         1  Downtown West  "
      ]
     },
     "execution_count": 15,
     "metadata": {},
     "output_type": "execute_result"
    }
   ],
   "source": [
    "police_use_df.head()"
   ]
  },
  {
   "cell_type": "markdown",
   "id": "91384200",
   "metadata": {},
   "source": [
    "Well, I can already see the NaN's, so let's get a count."
   ]
  },
  {
   "cell_type": "code",
   "execution_count": 16,
   "id": "b2824320",
   "metadata": {},
   "outputs": [
    {
     "data": {
      "text/plain": [
       "response_datetime       0\n",
       "problem                 0\n",
       "is_911_call             0\n",
       "primary_offense         0\n",
       "subject_injury       9848\n",
       "force_type              0\n",
       "force_type_action       0\n",
       "race                 1024\n",
       "sex                   501\n",
       "age                  1066\n",
       "type_resistance      2986\n",
       "precinct                0\n",
       "neighborhood            4\n",
       "dtype: int64"
      ]
     },
     "execution_count": 16,
     "metadata": {},
     "output_type": "execute_result"
    }
   ],
   "source": [
    "police_use_df.isnull().sum()"
   ]
  },
  {
   "cell_type": "markdown",
   "id": "068472dc",
   "metadata": {},
   "source": [
    "There's 9848 NaN's... yooo.... let me see a breakdown on the column values."
   ]
  },
  {
   "cell_type": "code",
   "execution_count": 17,
   "id": "119b0432",
   "metadata": {},
   "outputs": [
    {
     "data": {
      "text/plain": [
       "subject_injury\n",
       "NaN    9848\n",
       "Yes    1631\n",
       "No     1446\n",
       "Name: count, dtype: int64"
      ]
     },
     "execution_count": 17,
     "metadata": {},
     "output_type": "execute_result"
    }
   ],
   "source": [
    "police_use_df['subject_injury'].value_counts(dropna=False)"
   ]
  },
  {
   "cell_type": "code",
   "execution_count": 18,
   "id": "68658d5b",
   "metadata": {},
   "outputs": [
    {
     "data": {
      "text/plain": [
       "0.7619342359767892"
      ]
     },
     "execution_count": 18,
     "metadata": {},
     "output_type": "execute_result"
    }
   ],
   "source": [
    "missing_proportion = 9848 / (1631 + 1446 + 9848)\n",
    "missing_proportion"
   ]
  },
  {
   "cell_type": "markdown",
   "id": "418970f8",
   "metadata": {},
   "source": [
    "Ok actually that's not very helpful tbh. As far as I'm seeing, it's a 1631/1446/9848 split between yes/no/nan. That's pretty terrible, and suggests around 76% missing data proportion. Let's look into the cross-tabulation to see if there's an explanation!"
   ]
  },
  {
   "cell_type": "code",
   "execution_count": 19,
   "id": "343c1b10",
   "metadata": {},
   "outputs": [
    {
     "data": {
      "text/html": [
       "<div>\n",
       "<style scoped>\n",
       "    .dataframe tbody tr th:only-of-type {\n",
       "        vertical-align: middle;\n",
       "    }\n",
       "\n",
       "    .dataframe tbody tr th {\n",
       "        vertical-align: top;\n",
       "    }\n",
       "\n",
       "    .dataframe thead th {\n",
       "        text-align: right;\n",
       "    }\n",
       "</style>\n",
       "<table border=\"1\" class=\"dataframe\">\n",
       "  <thead>\n",
       "    <tr style=\"text-align: right;\">\n",
       "      <th>force_type</th>\n",
       "      <th>Baton</th>\n",
       "      <th>Bodily Force</th>\n",
       "      <th>Chemical Irritant</th>\n",
       "      <th>Firearm</th>\n",
       "      <th>Gun Point Display</th>\n",
       "      <th>Improvised Weapon</th>\n",
       "      <th>Less Lethal</th>\n",
       "      <th>Less Lethal Projectile</th>\n",
       "      <th>Maximal Restraint Technique</th>\n",
       "      <th>Police K9 Bite</th>\n",
       "      <th>Taser</th>\n",
       "    </tr>\n",
       "    <tr>\n",
       "      <th>subject_injury</th>\n",
       "      <th></th>\n",
       "      <th></th>\n",
       "      <th></th>\n",
       "      <th></th>\n",
       "      <th></th>\n",
       "      <th></th>\n",
       "      <th></th>\n",
       "      <th></th>\n",
       "      <th></th>\n",
       "      <th></th>\n",
       "      <th></th>\n",
       "    </tr>\n",
       "  </thead>\n",
       "  <tbody>\n",
       "    <tr>\n",
       "      <th>No</th>\n",
       "      <td>0</td>\n",
       "      <td>1093</td>\n",
       "      <td>131</td>\n",
       "      <td>2</td>\n",
       "      <td>33</td>\n",
       "      <td>34</td>\n",
       "      <td>0</td>\n",
       "      <td>1</td>\n",
       "      <td>0</td>\n",
       "      <td>2</td>\n",
       "      <td>150</td>\n",
       "    </tr>\n",
       "    <tr>\n",
       "      <th>Yes</th>\n",
       "      <td>2</td>\n",
       "      <td>1286</td>\n",
       "      <td>41</td>\n",
       "      <td>0</td>\n",
       "      <td>44</td>\n",
       "      <td>40</td>\n",
       "      <td>0</td>\n",
       "      <td>2</td>\n",
       "      <td>0</td>\n",
       "      <td>44</td>\n",
       "      <td>172</td>\n",
       "    </tr>\n",
       "    <tr>\n",
       "      <th>NaN</th>\n",
       "      <td>2</td>\n",
       "      <td>7051</td>\n",
       "      <td>1421</td>\n",
       "      <td>0</td>\n",
       "      <td>27</td>\n",
       "      <td>74</td>\n",
       "      <td>87</td>\n",
       "      <td>0</td>\n",
       "      <td>170</td>\n",
       "      <td>31</td>\n",
       "      <td>985</td>\n",
       "    </tr>\n",
       "  </tbody>\n",
       "</table>\n",
       "</div>"
      ],
      "text/plain": [
       "force_type      Baton  Bodily Force  Chemical Irritant  Firearm  \\\n",
       "subject_injury                                                    \n",
       "No                  0          1093                131        2   \n",
       "Yes                 2          1286                 41        0   \n",
       "NaN                 2          7051               1421        0   \n",
       "\n",
       "force_type      Gun Point Display  Improvised Weapon  Less Lethal  \\\n",
       "subject_injury                                                      \n",
       "No                             33                 34            0   \n",
       "Yes                            44                 40            0   \n",
       "NaN                            27                 74           87   \n",
       "\n",
       "force_type      Less Lethal Projectile  Maximal Restraint Technique  \\\n",
       "subject_injury                                                        \n",
       "No                                   1                            0   \n",
       "Yes                                  2                            0   \n",
       "NaN                                  0                          170   \n",
       "\n",
       "force_type      Police K9 Bite  Taser  \n",
       "subject_injury                         \n",
       "No                           2    150  \n",
       "Yes                         44    172  \n",
       "NaN                         31    985  "
      ]
     },
     "execution_count": 19,
     "metadata": {},
     "output_type": "execute_result"
    }
   ],
   "source": [
    "pd.crosstab(police_use_df['subject_injury'], police_use_df['force_type'], dropna=False)"
   ]
  },
  {
   "cell_type": "markdown",
   "id": "7ec8e1ed",
   "metadata": {},
   "source": [
    "There does not seem to be any obvious trend for a lot of these columns for NaNs. I mean, the \"Less Lethal\" and \"Maximal Restraint Technique\" columns are all NaNs, and those could be non-injury related cases, but I don't think it's appropriate to assume and impute a particular value here. As for Bodily Force, Chemical Irritant, Taser, and the other smaller columns, there's no super obvious trend that would have an accurate impute here. Thus, I think that this data is not particularly cleanable beyond this insight. The conclusion is that a large proportion of the data (76%) are missing, and that's concerning - but there's no clear trends that would allow a clean impute/assumption for the missings from what I'm seeing, and thus I don't intend on going any further than this exploratory analysis."
   ]
  },
  {
   "cell_type": "markdown",
   "id": "a9177ffd",
   "metadata": {},
   "source": [
    "#### Code Segment + Analysis for Q1.3"
   ]
  },
  {
   "cell_type": "code",
   "execution_count": 20,
   "id": "591b96b5",
   "metadata": {},
   "outputs": [
    {
     "name": "stderr",
     "output_type": "stream",
     "text": [
      "C:\\Users\\kevin\\AppData\\Local\\Temp\\ipykernel_9212\\734111033.py:2: DtypeWarning: Columns (1,4,5,7,79,80,81,82,83,84,108,163,164,165,166,168,169,170,171,172,173,174,175,176,177,178,179,180,181,182,183,184,185,186,187,188,189,190,191,192,193,194,195,196,197,198,199,200,201,202,203,204,205,206,207,208,209,210,211,212,213,214,215,216,217,218,219,220,221,222,223,224,225,226,227,228,229,230,231,232,233,234,235,236,237,238,239,240,241,242,243,244,245,246,247,248,249,250,251,252,253,254,255,256,257,258,259,260,261,262,263,264,265,266,267,268,270,271,272,273,275,276,277,278,279,280,281,282,283,284,285,286,287,288,289,290,291,292,293,294,295,296,297,301,302,303,306,307,308,309,310,311,312,313,314,315,316,317,318,319,320,321,322,323,324,325,326,327,328,329,330,331,332,333,334,335,336,337,338,339,340,341,342,343,344,345,346,347,348,349,350,351,352,353,354,355,356,357,358,359,360,361,362,363,364,365,366,367,368,369,370,371,372,373,374,375,376,377,378,379,380,381,382,383,384,385,386,387,388,389,390,391,392,393,394,395,396,397,398,399,400,401,402,403,404,405,406,407,408,409,410,411,412,413,414,415,416,417,418,419,420,421,422,423,424,425,426,427,428,429,430,431,432,433,434,435,436,437,438,439,440,441,442,443,444,445,446,447,448,449,450,451,452,453,454,455,456,457,458,459,460,461,462,463,464,465,466,467,468,469,470,471,472,473,474,475,476,477,478,479,480,481,482,483,484,485,486,487,488,489,490,491,492,493,494,495,496,497,498,499,500,502,503,504,505,506,507,508,509,510,511,512,513,514,515,516,517,518,519,520,521,522,523,524,525,526,527,528,529,530,531,532,533,534,535,536,537,538,539,540,541,542,543,544,545,706) have mixed types. Specify dtype option on import or set low_memory=False.\n",
      "  justice_df = pd.read_csv(url)\n"
     ]
    }
   ],
   "source": [
    "url = \"http://vcsc.virginia.gov/pretrialdataproject/October%202017%20Cohort_Virginia%20Pretrial%20Data%20Project_Deidentified%20FINAL%20Update_10272021.csv\"\n",
    "justice_df = pd.read_csv(url)"
   ]
  },
  {
   "cell_type": "code",
   "execution_count": 21,
   "id": "de82a732",
   "metadata": {},
   "outputs": [
    {
     "data": {
      "text/html": [
       "<div>\n",
       "<style scoped>\n",
       "    .dataframe tbody tr th:only-of-type {\n",
       "        vertical-align: middle;\n",
       "    }\n",
       "\n",
       "    .dataframe tbody tr th {\n",
       "        vertical-align: top;\n",
       "    }\n",
       "\n",
       "    .dataframe thead th {\n",
       "        text-align: right;\n",
       "    }\n",
       "</style>\n",
       "<table border=\"1\" class=\"dataframe\">\n",
       "  <thead>\n",
       "    <tr style=\"text-align: right;\">\n",
       "      <th></th>\n",
       "      <th>InternalStudyID</th>\n",
       "      <th>REQ_REC#</th>\n",
       "      <th>Defendant_Sex</th>\n",
       "      <th>Defendant_Race</th>\n",
       "      <th>Defendant_BirthYear</th>\n",
       "      <th>Defendant_Age</th>\n",
       "      <th>Defendant_AgeGroup</th>\n",
       "      <th>Defendant_AgeatCurrentArrest</th>\n",
       "      <th>Defendant_AttorneyTypeAtCaseClosure</th>\n",
       "      <th>Defendant_IndigencyStatus</th>\n",
       "      <th>...</th>\n",
       "      <th>NewFelonySexualAssaultArrest_OffDate</th>\n",
       "      <th>NewFelonySexualAssaultArrest_ArrestDate</th>\n",
       "      <th>NewFelonySexualAssaultArrest_DaysBetweenContactEventandOffDate</th>\n",
       "      <th>NewFelonySexualAssaultArrest_DaysBetweenOffDateandArrestDate</th>\n",
       "      <th>NewFelonySexualAssaultArrest_DaysBetweenReleaseDateandOffDate</th>\n",
       "      <th>NewFelonySexualAssaultArrest_Disposition</th>\n",
       "      <th>Intertnalindicator_ReasonforExcludingFromFollowUpAnalysis</th>\n",
       "      <th>CriminalHistoryRecordsReturnedorCMSRecordsFoundforIndividual</th>\n",
       "      <th>DispRecordFoundforChargesinOct2017Contact_Atleast1dispfound</th>\n",
       "      <th>CrimeCommission2021ReportClassificationofDefendants</th>\n",
       "    </tr>\n",
       "  </thead>\n",
       "  <tbody>\n",
       "    <tr>\n",
       "      <th>0</th>\n",
       "      <td>ADI00001</td>\n",
       "      <td>1</td>\n",
       "      <td>M</td>\n",
       "      <td>W</td>\n",
       "      <td>1986</td>\n",
       "      <td>31</td>\n",
       "      <td>3</td>\n",
       "      <td>31</td>\n",
       "      <td>99</td>\n",
       "      <td>99</td>\n",
       "      <td>...</td>\n",
       "      <td></td>\n",
       "      <td></td>\n",
       "      <td></td>\n",
       "      <td>999</td>\n",
       "      <td>999</td>\n",
       "      <td></td>\n",
       "      <td>4</td>\n",
       "      <td>1</td>\n",
       "      <td>0</td>\n",
       "      <td>Defendant could not be classified or tracked d...</td>\n",
       "    </tr>\n",
       "    <tr>\n",
       "      <th>1</th>\n",
       "      <td>ADI00007</td>\n",
       "      <td>3</td>\n",
       "      <td>M</td>\n",
       "      <td>B</td>\n",
       "      <td>1956</td>\n",
       "      <td>60</td>\n",
       "      <td>6</td>\n",
       "      <td>60</td>\n",
       "      <td>9</td>\n",
       "      <td>9</td>\n",
       "      <td>...</td>\n",
       "      <td></td>\n",
       "      <td></td>\n",
       "      <td></td>\n",
       "      <td>999</td>\n",
       "      <td>999</td>\n",
       "      <td></td>\n",
       "      <td>5</td>\n",
       "      <td>1</td>\n",
       "      <td>1</td>\n",
       "      <td>Defendant Detained Entire Pre-Trial Period_Und...</td>\n",
       "    </tr>\n",
       "    <tr>\n",
       "      <th>2</th>\n",
       "      <td>ADI00008</td>\n",
       "      <td>4</td>\n",
       "      <td>M</td>\n",
       "      <td>W</td>\n",
       "      <td>1990</td>\n",
       "      <td>27</td>\n",
       "      <td>3</td>\n",
       "      <td>27</td>\n",
       "      <td>9</td>\n",
       "      <td>9</td>\n",
       "      <td>...</td>\n",
       "      <td></td>\n",
       "      <td></td>\n",
       "      <td></td>\n",
       "      <td>999</td>\n",
       "      <td>999</td>\n",
       "      <td></td>\n",
       "      <td>5</td>\n",
       "      <td>1</td>\n",
       "      <td>1</td>\n",
       "      <td>Defendant Detained Entire Pre-Trial Period_Und...</td>\n",
       "    </tr>\n",
       "    <tr>\n",
       "      <th>3</th>\n",
       "      <td>CDI00036</td>\n",
       "      <td>6</td>\n",
       "      <td>M</td>\n",
       "      <td>B</td>\n",
       "      <td>1989</td>\n",
       "      <td>27</td>\n",
       "      <td>3</td>\n",
       "      <td>27</td>\n",
       "      <td>0</td>\n",
       "      <td>0</td>\n",
       "      <td>...</td>\n",
       "      <td></td>\n",
       "      <td></td>\n",
       "      <td></td>\n",
       "      <td>999</td>\n",
       "      <td>999</td>\n",
       "      <td></td>\n",
       "      <td>5</td>\n",
       "      <td>1</td>\n",
       "      <td>1</td>\n",
       "      <td>Defendant Detained Entire Pre-Trial Period_Und...</td>\n",
       "    </tr>\n",
       "    <tr>\n",
       "      <th>4</th>\n",
       "      <td>CDI00038</td>\n",
       "      <td>7</td>\n",
       "      <td>F</td>\n",
       "      <td>W</td>\n",
       "      <td>1988</td>\n",
       "      <td>28</td>\n",
       "      <td>3</td>\n",
       "      <td>28</td>\n",
       "      <td>0</td>\n",
       "      <td>0</td>\n",
       "      <td>...</td>\n",
       "      <td></td>\n",
       "      <td></td>\n",
       "      <td></td>\n",
       "      <td>999</td>\n",
       "      <td>999</td>\n",
       "      <td></td>\n",
       "      <td>0</td>\n",
       "      <td>1</td>\n",
       "      <td>1</td>\n",
       "      <td>New criminal offense punishable by incarcerati...</td>\n",
       "    </tr>\n",
       "  </tbody>\n",
       "</table>\n",
       "<p>5 rows × 709 columns</p>\n",
       "</div>"
      ],
      "text/plain": [
       "  InternalStudyID REQ_REC# Defendant_Sex Defendant_Race Defendant_BirthYear  \\\n",
       "0        ADI00001        1             M              W                1986   \n",
       "1        ADI00007        3             M              B                1956   \n",
       "2        ADI00008        4             M              W                1990   \n",
       "3        CDI00036        6             M              B                1989   \n",
       "4        CDI00038        7             F              W                1988   \n",
       "\n",
       "  Defendant_Age  Defendant_AgeGroup Defendant_AgeatCurrentArrest  \\\n",
       "0            31                   3                           31   \n",
       "1            60                   6                           60   \n",
       "2            27                   3                           27   \n",
       "3            27                   3                           27   \n",
       "4            28                   3                           28   \n",
       "\n",
       "   Defendant_AttorneyTypeAtCaseClosure  Defendant_IndigencyStatus  ...  \\\n",
       "0                                   99                         99  ...   \n",
       "1                                    9                          9  ...   \n",
       "2                                    9                          9  ...   \n",
       "3                                    0                          0  ...   \n",
       "4                                    0                          0  ...   \n",
       "\n",
       "  NewFelonySexualAssaultArrest_OffDate  \\\n",
       "0                                        \n",
       "1                                        \n",
       "2                                        \n",
       "3                                        \n",
       "4                                        \n",
       "\n",
       "  NewFelonySexualAssaultArrest_ArrestDate  \\\n",
       "0                                           \n",
       "1                                           \n",
       "2                                           \n",
       "3                                           \n",
       "4                                           \n",
       "\n",
       "   NewFelonySexualAssaultArrest_DaysBetweenContactEventandOffDate  \\\n",
       "0                                                                   \n",
       "1                                                                   \n",
       "2                                                                   \n",
       "3                                                                   \n",
       "4                                                                   \n",
       "\n",
       "  NewFelonySexualAssaultArrest_DaysBetweenOffDateandArrestDate  \\\n",
       "0                                                999             \n",
       "1                                                999             \n",
       "2                                                999             \n",
       "3                                                999             \n",
       "4                                                999             \n",
       "\n",
       "   NewFelonySexualAssaultArrest_DaysBetweenReleaseDateandOffDate  \\\n",
       "0                                                999               \n",
       "1                                                999               \n",
       "2                                                999               \n",
       "3                                                999               \n",
       "4                                                999               \n",
       "\n",
       "   NewFelonySexualAssaultArrest_Disposition  \\\n",
       "0                                             \n",
       "1                                             \n",
       "2                                             \n",
       "3                                             \n",
       "4                                             \n",
       "\n",
       "   Intertnalindicator_ReasonforExcludingFromFollowUpAnalysis  \\\n",
       "0                                                  4           \n",
       "1                                                  5           \n",
       "2                                                  5           \n",
       "3                                                  5           \n",
       "4                                                  0           \n",
       "\n",
       "   CriminalHistoryRecordsReturnedorCMSRecordsFoundforIndividual  \\\n",
       "0                                                  1              \n",
       "1                                                  1              \n",
       "2                                                  1              \n",
       "3                                                  1              \n",
       "4                                                  1              \n",
       "\n",
       "  DispRecordFoundforChargesinOct2017Contact_Atleast1dispfound  \\\n",
       "0                                                  0            \n",
       "1                                                  1            \n",
       "2                                                  1            \n",
       "3                                                  1            \n",
       "4                                                  1            \n",
       "\n",
       "   CrimeCommission2021ReportClassificationofDefendants  \n",
       "0  Defendant could not be classified or tracked d...    \n",
       "1  Defendant Detained Entire Pre-Trial Period_Und...    \n",
       "2  Defendant Detained Entire Pre-Trial Period_Und...    \n",
       "3  Defendant Detained Entire Pre-Trial Period_Und...    \n",
       "4  New criminal offense punishable by incarcerati...    \n",
       "\n",
       "[5 rows x 709 columns]"
      ]
     },
     "execution_count": 21,
     "metadata": {},
     "output_type": "execute_result"
    }
   ],
   "source": [
    "justice_df.head()"
   ]
  },
  {
   "cell_type": "markdown",
   "id": "2d64b4c1",
   "metadata": {},
   "source": [
    "Ok... hint says look at `WhetherDefendantWasReleasedPretrial` in particular so let's look at the value breakdown for it."
   ]
  },
  {
   "cell_type": "code",
   "execution_count": 22,
   "id": "6aee7de4",
   "metadata": {},
   "outputs": [
    {
     "data": {
      "text/plain": [
       "WhetherDefendantWasReleasedPretrial\n",
       "1    19154\n",
       "0     3801\n",
       "9       31\n",
       "Name: count, dtype: int64"
      ]
     },
     "execution_count": 22,
     "metadata": {},
     "output_type": "execute_result"
    }
   ],
   "source": [
    "justice_df['WhetherDefendantWasReleasedPretrial'].value_counts(dropna=False)"
   ]
  },
  {
   "cell_type": "markdown",
   "id": "2d5f91ce",
   "metadata": {},
   "source": [
    "Well, given that there's an oddball value here, I looked into seeing if there was a codebook explaining what this 9 meant, and sure enough, there was! https://vscc.virginia.gov/VirginiaPretrialDataProject/October%202017%20Cohort_Full%20Data%20Codebook_FINAL.pdf \\\n",
    "The codebook suggests that this 9 means \"unclear\", so we'll just make them NaNs since 9 isn't helpful."
   ]
  },
  {
   "cell_type": "code",
   "execution_count": 23,
   "id": "795b8067",
   "metadata": {},
   "outputs": [],
   "source": [
    "modified_justice_df = justice_df.copy()\n",
    "modified_justice_df['WhetherDefendantWasReleasedPretrial'] = modified_justice_df['WhetherDefendantWasReleasedPretrial'].replace({9: np.nan})"
   ]
  },
  {
   "cell_type": "code",
   "execution_count": 24,
   "id": "f5304b3c",
   "metadata": {},
   "outputs": [
    {
     "data": {
      "text/plain": [
       "WhetherDefendantWasReleasedPretrial\n",
       "1.0    19154\n",
       "0.0     3801\n",
       "NaN       31\n",
       "Name: count, dtype: int64"
      ]
     },
     "execution_count": 24,
     "metadata": {},
     "output_type": "execute_result"
    }
   ],
   "source": [
    "modified_justice_df['WhetherDefendantWasReleasedPretrial'].value_counts(dropna=False)"
   ]
  },
  {
   "cell_type": "markdown",
   "id": "81626ed5",
   "metadata": {},
   "source": [
    "In conclusion, for this section I just followed the instructions to a tee - looked at the `WhetherDefendantWasReleasedPretrial` column, took a look at the value counts, and replaced the 'unclear' encoded values (the 9's) with NaNs as suggested. "
   ]
  },
  {
   "cell_type": "markdown",
   "id": "a3a9542d",
   "metadata": {},
   "source": [
    "#### Code Segment + Analysis for Q1.4\n",
    "Note that I already read justice_df above from Q1.3 so I didn't do it again here :) and since it's unmodified, I'll use it again here. Looking at the codebook again, I took a look to see what they had to say for these columns."
   ]
  },
  {
   "cell_type": "code",
   "execution_count": 25,
   "id": "534943a1",
   "metadata": {},
   "outputs": [
    {
     "data": {
      "text/plain": [
       "ImposedSentenceAllChargeInContactEvent\n",
       "                    9053\n",
       "0                   4953\n",
       "12                  1404\n",
       ".985626283367556    1051\n",
       "6                    809\n",
       "                    ... \n",
       "49.9712525667351       1\n",
       "57.0349075975359       1\n",
       "79.9260780287474       1\n",
       "42.1642710472279       1\n",
       "1.6570841889117        1\n",
       "Name: count, Length: 484, dtype: int64"
      ]
     },
     "execution_count": 25,
     "metadata": {},
     "output_type": "execute_result"
    }
   ],
   "source": [
    "justice_df['ImposedSentenceAllChargeInContactEvent'].value_counts(dropna=False)"
   ]
  },
  {
   "cell_type": "code",
   "execution_count": 26,
   "id": "98e8ca69",
   "metadata": {},
   "outputs": [
    {
     "data": {
      "text/plain": [
       "array([' ', '60', '12', '.985626283367556', '36', '6', '24',\n",
       "       '5.91375770020534', '120', '72', '11.9917864476386', '0',\n",
       "       '2.95687885010267', '84', '108', '300', '240', '180', '4', '96',\n",
       "       '2', '54', '.328542094455852', '44', '5', '115', '132', '48',\n",
       "       '258', '34', '76', '.164271047227926', '.131416837782341', '111',\n",
       "       '9', '3', '1.97125256673511', '36.9856262833676',\n",
       "       '.0657084188911704', '35.4928131416838', '106.492813141684', '8',\n",
       "       '35', '18.3141683778234', '480', '32', '93', '234', '732',\n",
       "       '1.16427104722793', '4.6570841889117', '21', '7',\n",
       "       '4.49281314168378', '18', '600', '43.1642710472279', '179', '52',\n",
       "       '30', '20', '192', '702', '14', '55', '53', '11.9055441478439',\n",
       "       '114', '35.0061601642711', '68', '.657084188911704',\n",
       "       '46.6242299794661', '102', '65', '200', '57', '24.3285420944559',\n",
       "       '12.1642710472279', '117', '81.4928131416838', '22.4928131416838',\n",
       "       '1980', '3.6570841889117', '56', '10', '2.79260780287474', '1',\n",
       "       '47', '22', '1500', '40', '284', '11', '118', '42', '162', '156',\n",
       "       '47.2956878850103', '105', '51', '246', '29', '75', '324', '360',\n",
       "       '34.4804928131417', '120.328542094456', '59.9260780287474', '66',\n",
       "       '59.9917864476386', '660', '51.1642710472279', '14.9568788501027',\n",
       "       '3.98562628336756', '78', '228', '1.47843942505133', '62', '4.8',\n",
       "       '86', '168', '23', '33', '48.0328542094456', '720', '348', '1200',\n",
       "       '27', '49', '87', '420', '63', '79.9260780287474',\n",
       "       '57.0349075975359', '49.9712525667351', '59.4928131416838', '17',\n",
       "       '238.492813141684', '60.9856262833676', '126', '45', '158', '216',\n",
       "       '227', '42.9568788501027', '445', '70.952772073922', '516',\n",
       "       '177.82135523614', '1752', '90', '1080', '141', '4.82956878850103',\n",
       "       '230', '31', '2208', '52.5133470225873', '69', '26',\n",
       "       '33.4928131416838', '140', '131', '344', '219', '101', '71', '59',\n",
       "       '58', '120.197125256674', '67', '35.4004106776181',\n",
       "       '3.28542094455852', '40.1642710472279', '91', '1.7741273100616',\n",
       "       '155', '34.4928131416838', '81', '92.3285420944559',\n",
       "       '3.5482546201232', '207', '74', '518', '28', '8.95687885010267',\n",
       "       '237', '404.673511293634', '18.1642710472279', '10.7433264887064',\n",
       "       '551', '39', '15', '124', '43', '176', '19.4928131416838', '482',\n",
       "       '129', '88', '46', '45.8542094455852', '128.628336755647',\n",
       "       '136.492813141684', '108.328542094456', '50', '363.663244353183',\n",
       "       '288', '250', '107', '81.0225872689938', '444', '205',\n",
       "       '10.6570841889117', '19', '66.9856262833676', '38.4928131416838',\n",
       "       '264', '276', '173', '222', '144', '294', '336', '431', '450',\n",
       "       '73', '99.3285420944559', '128', '30.8069815195072',\n",
       "       '31.5256673511294', '127', '202', '55.3285420944559', '89', '242',\n",
       "       '1.31416837782341', '1029', '.788501026694045', '194.858316221766',\n",
       "       '399', '39.6570841889117', '56.95687885', '198',\n",
       "       '120.985626283368', '47.6570841889117', '148', '6.8993839835729',\n",
       "       '65.3285420944559', '5.95277207392197', '.0985626283367557',\n",
       "       '3.32854209445585', '3.94250513347023', '12.9856262833676',\n",
       "       '6.98562628336756', '13.1498973305955', '15.1642710472279',\n",
       "       '17.1971252566735', '17.9137577002053', '104', '212',\n",
       "       '24.6570841889117', '72.6570841889117', '2.98562628336756',\n",
       "       '144.985626283368', '31.9712525667351', '183', '4.98562628336756',\n",
       "       '11.8213552361396', '252', '12.394250513347', '42.4928131416838',\n",
       "       '10.1642710472279', '11.1642710472279', '5.49281314168378',\n",
       "       '59.6632443531827', '12.3285420944559', '48.9856262833676',\n",
       "       '240.985626283368', '2.6570841889117', '540', '2.97125256673511',\n",
       "       '6.32854209445585', '23.6632443531828', '133.657084188912',\n",
       "       '35.3285420944559', '456', '103', '1.72279260780287',\n",
       "       '12.6570841889117', '11.6570841889117', '60.3285420944559',\n",
       "       '3.78850102669405', '576', '2.13141683778234', '492',\n",
       "       '14.9856262833676', '24.9856262833676', '61.9712525667351',\n",
       "       '5.6570841889117', '16', '42.1642710472279', '.492813141683778',\n",
       "       '138', '13.3141683778234', '11.8932238193018', '5.32854209445585',\n",
       "       '95', '62.6570841889117', '3.08829568788501', '11.8275154004107',\n",
       "       '1.64271047227926', '47.9917864476386', '4.27104722792608',\n",
       "       '8.32854209445585', '3.31416837782341', '70', '77',\n",
       "       '1.09856262833676', '48.1642710472279', '27.4928131416838',\n",
       "       '6.93839835728953', '1011', '.68993839835729', '1.1170431211499',\n",
       "       '1.49281314168378', '4.16427104722793', '1.19712525667351',\n",
       "       '4.07392197125257', '188', '11.3285420944559', '.0328542094455852',\n",
       "       '432', '11.952772073922', '36.4928131416838', '23.9835728952772',\n",
       "       '9.98562628336756', '98', '36.3285420944559', '112',\n",
       "       '.394250513347023', '13', '.262833675564682', '13.7987679671458',\n",
       "       '5.8870636550308', '354', '5.91991786447639', '24.1642710472279',\n",
       "       '62.95687885', '4.59958932238193', '123', '2.32854209445585',\n",
       "       '23.9240246406571', '204', '197', '174', '16.1498973305955', '840',\n",
       "       '440', '98.95687885', '17.952772073922', '63.9425051334702',\n",
       "       '60.1314168377823', '12.1314168377823', '172.952772073922',\n",
       "       '.197125256673511', '138.164271047228', '4.92813141683778',\n",
       "       '.919917864476386', '18.9856262833676', '6.6570841889117',\n",
       "       '2.85420944558522', '8.91375770020534', '146', '12.4928131416838',\n",
       "       '.558521560574949', '.722792607802875', '5.82135523613963',\n",
       "       '84.9856262833676', '6.16427104722793', '15.9856262833676',\n",
       "       '64.5585215605749', '38.299794661191', '11.958932238193',\n",
       "       '3.1211498973306', '126.328542094456', '5.16427104722793', '64',\n",
       "       '42.6570841889117', '312', '19.9712525667351', '82.3285420944559',\n",
       "       '23.9712525667351', '17.6242299794661', '121.971252566735',\n",
       "       '59.6550308008214', '1.32854209445585', '7.97125256673511',\n",
       "       '1.91991786447639', '.525667351129363', '9.32854209445585',\n",
       "       '42.9856262833676', '41.9137577002053', '72.9856262833676',\n",
       "       '12.4784394250513', '5.19096509240246', '473', '16.6570841889117',\n",
       "       '109', '86.3285420944559', '41', '1.90554414784394',\n",
       "       '94.1642710472279', '302', '4.39425051334702', '10.8213552361396',\n",
       "       '18.3285420944559', '154', '83', '110.956878850103', '226',\n",
       "       '96.0328542094456', '4.82135523613963', '30.3285420944559',\n",
       "       '37.9712525667351', '50.4640657084189', '286', '99',\n",
       "       '99.4928131416838', '2.6611909650924', '70.9712525667351',\n",
       "       '13.9712525667351', '23.6570841889117', '.459958932238193',\n",
       "       '132.492813141684', '283', '49.3141683778234', '27.9856262833676',\n",
       "       '38', '7.6570841889117', '83.6550308008214', '10.9199178644764',\n",
       "       '162.328542094456', '37', '132.328542094456', '35.952772073922',\n",
       "       '165', '10.9856262833676', '20.1642710472279', '2.59137577002053',\n",
       "       '175', '180.985626283368', '10.3285420944559', '36.1642710472279',\n",
       "       '120.657084188912', '232', '152', '8.98562628336756', '167',\n",
       "       '11.0657084188912', '11.2032854209446', '5.19712525667351',\n",
       "       '3.16427104722793', '60.1642710472279', '1.18275154004107',\n",
       "       '21.1642710472279', '2.19712525667351', '4.19712525667351',\n",
       "       '2.62833675564682', '119.952772073922', '119.958932238193',\n",
       "       '9.49281314168378', '5.25667351129363', '15.3285420944559',\n",
       "       '2.82135523613963', '192.985626283368', '48.6570841889117',\n",
       "       '5.95687885010267', '2.29979466119097', '960', '2.36550308008214',\n",
       "       '116', '19.5133470225873', '1.6570841889117'], dtype=object)"
      ]
     },
     "execution_count": 26,
     "metadata": {},
     "output_type": "execute_result"
    }
   ],
   "source": [
    "justice_df['ImposedSentenceAllChargeInContactEvent'].unique()"
   ]
  },
  {
   "cell_type": "markdown",
   "id": "89ba171c",
   "metadata": {},
   "source": [
    "So the codebook suggests that these values are all imposed sentence terms in months. It makes sense that they are in decimal format. The biggest thing I'm seeing here is that \n",
    "1. The dtype is object, so these are strings again. We want to typecast these.\n",
    "2. There are blank strings we gotta handle.\n",
    "\n",
    "I think the first one probably makes more sense to handle first. Then we'll figure out how to deal with these missing values based on the hint with `SentenceTypeAllChargesAtConvicitionInContactEvent`."
   ]
  },
  {
   "cell_type": "markdown",
   "id": "767d0dec",
   "metadata": {},
   "source": [
    "Okay, and so from the codebook, 0 is probation/no incarceration, 1 is jail up to 12 months, 2 is prison (1+ year), 4 is other (pending, dismissed, deferred, etc.), and 9 is N/A."
   ]
  },
  {
   "cell_type": "code",
   "execution_count": 27,
   "id": "09215b33",
   "metadata": {},
   "outputs": [
    {
     "data": {
      "text/html": [
       "<div>\n",
       "<style scoped>\n",
       "    .dataframe tbody tr th:only-of-type {\n",
       "        vertical-align: middle;\n",
       "    }\n",
       "\n",
       "    .dataframe tbody tr th {\n",
       "        vertical-align: top;\n",
       "    }\n",
       "\n",
       "    .dataframe thead th {\n",
       "        text-align: right;\n",
       "    }\n",
       "</style>\n",
       "<table border=\"1\" class=\"dataframe\">\n",
       "  <thead>\n",
       "    <tr style=\"text-align: right;\">\n",
       "      <th>SentenceTypeAllChargesAtConvictionInContactEvent</th>\n",
       "      <th>0</th>\n",
       "      <th>1</th>\n",
       "      <th>2</th>\n",
       "      <th>4</th>\n",
       "      <th>9</th>\n",
       "    </tr>\n",
       "    <tr>\n",
       "      <th>ImposedSentenceAllChargeInContactEvent</th>\n",
       "      <th></th>\n",
       "      <th></th>\n",
       "      <th></th>\n",
       "      <th></th>\n",
       "      <th></th>\n",
       "    </tr>\n",
       "  </thead>\n",
       "  <tbody>\n",
       "    <tr>\n",
       "      <th></th>\n",
       "      <td>0</td>\n",
       "      <td>0</td>\n",
       "      <td>0</td>\n",
       "      <td>8779</td>\n",
       "      <td>274</td>\n",
       "    </tr>\n",
       "    <tr>\n",
       "      <th>.0328542094455852</th>\n",
       "      <td>0</td>\n",
       "      <td>6</td>\n",
       "      <td>0</td>\n",
       "      <td>0</td>\n",
       "      <td>0</td>\n",
       "    </tr>\n",
       "    <tr>\n",
       "      <th>.0657084188911704</th>\n",
       "      <td>3</td>\n",
       "      <td>21</td>\n",
       "      <td>0</td>\n",
       "      <td>0</td>\n",
       "      <td>0</td>\n",
       "    </tr>\n",
       "    <tr>\n",
       "      <th>.0985626283367557</th>\n",
       "      <td>2</td>\n",
       "      <td>6</td>\n",
       "      <td>0</td>\n",
       "      <td>0</td>\n",
       "      <td>0</td>\n",
       "    </tr>\n",
       "    <tr>\n",
       "      <th>.131416837782341</th>\n",
       "      <td>4</td>\n",
       "      <td>10</td>\n",
       "      <td>0</td>\n",
       "      <td>0</td>\n",
       "      <td>0</td>\n",
       "    </tr>\n",
       "    <tr>\n",
       "      <th>...</th>\n",
       "      <td>...</td>\n",
       "      <td>...</td>\n",
       "      <td>...</td>\n",
       "      <td>...</td>\n",
       "      <td>...</td>\n",
       "    </tr>\n",
       "    <tr>\n",
       "      <th>98</th>\n",
       "      <td>0</td>\n",
       "      <td>0</td>\n",
       "      <td>1</td>\n",
       "      <td>0</td>\n",
       "      <td>0</td>\n",
       "    </tr>\n",
       "    <tr>\n",
       "      <th>98.95687885</th>\n",
       "      <td>0</td>\n",
       "      <td>0</td>\n",
       "      <td>1</td>\n",
       "      <td>0</td>\n",
       "      <td>0</td>\n",
       "    </tr>\n",
       "    <tr>\n",
       "      <th>99</th>\n",
       "      <td>0</td>\n",
       "      <td>1</td>\n",
       "      <td>0</td>\n",
       "      <td>0</td>\n",
       "      <td>0</td>\n",
       "    </tr>\n",
       "    <tr>\n",
       "      <th>99.3285420944559</th>\n",
       "      <td>0</td>\n",
       "      <td>1</td>\n",
       "      <td>0</td>\n",
       "      <td>0</td>\n",
       "      <td>0</td>\n",
       "    </tr>\n",
       "    <tr>\n",
       "      <th>99.4928131416838</th>\n",
       "      <td>0</td>\n",
       "      <td>1</td>\n",
       "      <td>0</td>\n",
       "      <td>0</td>\n",
       "      <td>0</td>\n",
       "    </tr>\n",
       "  </tbody>\n",
       "</table>\n",
       "<p>484 rows × 5 columns</p>\n",
       "</div>"
      ],
      "text/plain": [
       "SentenceTypeAllChargesAtConvictionInContactEvent  0   1  2     4    9\n",
       "ImposedSentenceAllChargeInContactEvent                               \n",
       "                                                  0   0  0  8779  274\n",
       ".0328542094455852                                 0   6  0     0    0\n",
       ".0657084188911704                                 3  21  0     0    0\n",
       ".0985626283367557                                 2   6  0     0    0\n",
       ".131416837782341                                  4  10  0     0    0\n",
       "...                                              ..  .. ..   ...  ...\n",
       "98                                                0   0  1     0    0\n",
       "98.95687885                                       0   0  1     0    0\n",
       "99                                                0   1  0     0    0\n",
       "99.3285420944559                                  0   1  0     0    0\n",
       "99.4928131416838                                  0   1  0     0    0\n",
       "\n",
       "[484 rows x 5 columns]"
      ]
     },
     "execution_count": 27,
     "metadata": {},
     "output_type": "execute_result"
    }
   ],
   "source": [
    "pd.crosstab(justice_df['ImposedSentenceAllChargeInContactEvent'], justice_df['SentenceTypeAllChargesAtConvictionInContactEvent'])"
   ]
  },
  {
   "cell_type": "markdown",
   "id": "3161bf9d",
   "metadata": {},
   "source": [
    "This cross-tabulation suggests that all the blanks are actually either in 4 or 9 - either pending/dismissed/deferred, or unknown. Because of this I know that it'd probably make the most sense to cast the 4's to values of 0 since pending/dismissed/deferred cases have not received their sentences yet. For the 9's, I think I'll cast them to NaNs since it's unknown so it's not exactly accurate to give them any other value in my opinion. First though I'll cast the `ImposedSentenceAllChargeInContactEvent` values to numerics."
   ]
  },
  {
   "cell_type": "code",
   "execution_count": 28,
   "id": "e78cb351",
   "metadata": {},
   "outputs": [],
   "source": [
    "modified_justice_df = justice_df.copy()\n",
    "modified_justice_df['ImposedSentenceAllChargeInContactEvent'] = pd.to_numeric(modified_justice_df['ImposedSentenceAllChargeInContactEvent'], errors='coerce')"
   ]
  },
  {
   "cell_type": "markdown",
   "id": "5530a831",
   "metadata": {},
   "source": [
    "Now that they're numerics, the blanks should be NaNs now. Like I said before, I think that the 4s should be 0 since those are individuals that are still awaiting their sentences and whatnot, so they have not actually served time in jail. I'll leave the 9s alone since those are unknown so they can stay NaNs."
   ]
  },
  {
   "cell_type": "code",
   "execution_count": 29,
   "id": "04c67f8d",
   "metadata": {},
   "outputs": [
    {
     "data": {
      "text/html": [
       "<div>\n",
       "<style scoped>\n",
       "    .dataframe tbody tr th:only-of-type {\n",
       "        vertical-align: middle;\n",
       "    }\n",
       "\n",
       "    .dataframe tbody tr th {\n",
       "        vertical-align: top;\n",
       "    }\n",
       "\n",
       "    .dataframe thead th {\n",
       "        text-align: right;\n",
       "    }\n",
       "</style>\n",
       "<table border=\"1\" class=\"dataframe\">\n",
       "  <thead>\n",
       "    <tr style=\"text-align: right;\">\n",
       "      <th>SentenceTypeAllChargesAtConvictionInContactEvent</th>\n",
       "      <th>0</th>\n",
       "      <th>1</th>\n",
       "      <th>2</th>\n",
       "    </tr>\n",
       "    <tr>\n",
       "      <th>ImposedSentenceAllChargeInContactEvent</th>\n",
       "      <th></th>\n",
       "      <th></th>\n",
       "      <th></th>\n",
       "    </tr>\n",
       "  </thead>\n",
       "  <tbody>\n",
       "    <tr>\n",
       "      <th>0.000000</th>\n",
       "      <td>4953</td>\n",
       "      <td>0</td>\n",
       "      <td>0</td>\n",
       "    </tr>\n",
       "    <tr>\n",
       "      <th>0.032854</th>\n",
       "      <td>0</td>\n",
       "      <td>6</td>\n",
       "      <td>0</td>\n",
       "    </tr>\n",
       "    <tr>\n",
       "      <th>0.065708</th>\n",
       "      <td>3</td>\n",
       "      <td>21</td>\n",
       "      <td>0</td>\n",
       "    </tr>\n",
       "    <tr>\n",
       "      <th>0.098563</th>\n",
       "      <td>2</td>\n",
       "      <td>6</td>\n",
       "      <td>0</td>\n",
       "    </tr>\n",
       "    <tr>\n",
       "      <th>0.131417</th>\n",
       "      <td>4</td>\n",
       "      <td>10</td>\n",
       "      <td>0</td>\n",
       "    </tr>\n",
       "    <tr>\n",
       "      <th>...</th>\n",
       "      <td>...</td>\n",
       "      <td>...</td>\n",
       "      <td>...</td>\n",
       "    </tr>\n",
       "    <tr>\n",
       "      <th>1200.000000</th>\n",
       "      <td>0</td>\n",
       "      <td>0</td>\n",
       "      <td>1</td>\n",
       "    </tr>\n",
       "    <tr>\n",
       "      <th>1500.000000</th>\n",
       "      <td>0</td>\n",
       "      <td>0</td>\n",
       "      <td>1</td>\n",
       "    </tr>\n",
       "    <tr>\n",
       "      <th>1752.000000</th>\n",
       "      <td>0</td>\n",
       "      <td>0</td>\n",
       "      <td>1</td>\n",
       "    </tr>\n",
       "    <tr>\n",
       "      <th>1980.000000</th>\n",
       "      <td>0</td>\n",
       "      <td>0</td>\n",
       "      <td>1</td>\n",
       "    </tr>\n",
       "    <tr>\n",
       "      <th>2208.000000</th>\n",
       "      <td>0</td>\n",
       "      <td>0</td>\n",
       "      <td>1</td>\n",
       "    </tr>\n",
       "  </tbody>\n",
       "</table>\n",
       "<p>483 rows × 3 columns</p>\n",
       "</div>"
      ],
      "text/plain": [
       "SentenceTypeAllChargesAtConvictionInContactEvent     0   1  2\n",
       "ImposedSentenceAllChargeInContactEvent                       \n",
       "0.000000                                          4953   0  0\n",
       "0.032854                                             0   6  0\n",
       "0.065708                                             3  21  0\n",
       "0.098563                                             2   6  0\n",
       "0.131417                                             4  10  0\n",
       "...                                                ...  .. ..\n",
       "1200.000000                                          0   0  1\n",
       "1500.000000                                          0   0  1\n",
       "1752.000000                                          0   0  1\n",
       "1980.000000                                          0   0  1\n",
       "2208.000000                                          0   0  1\n",
       "\n",
       "[483 rows x 3 columns]"
      ]
     },
     "execution_count": 29,
     "metadata": {},
     "output_type": "execute_result"
    }
   ],
   "source": [
    "pd.crosstab(modified_justice_df['ImposedSentenceAllChargeInContactEvent'], modified_justice_df['SentenceTypeAllChargesAtConvictionInContactEvent'])"
   ]
  },
  {
   "cell_type": "code",
   "execution_count": 30,
   "id": "621cc774",
   "metadata": {},
   "outputs": [],
   "source": [
    "modified_justice_df.loc[modified_justice_df['SentenceTypeAllChargesAtConvictionInContactEvent'] == 4, \n",
    "                        'ImposedSentenceAllChargeInContactEvent'] = 0"
   ]
  },
  {
   "cell_type": "markdown",
   "id": "abc7cabf",
   "metadata": {},
   "source": [
    "Let's cross-tabulate the data now and see what it looks like!"
   ]
  },
  {
   "cell_type": "code",
   "execution_count": 31,
   "id": "fc1b7844",
   "metadata": {},
   "outputs": [
    {
     "data": {
      "text/html": [
       "<div>\n",
       "<style scoped>\n",
       "    .dataframe tbody tr th:only-of-type {\n",
       "        vertical-align: middle;\n",
       "    }\n",
       "\n",
       "    .dataframe tbody tr th {\n",
       "        vertical-align: top;\n",
       "    }\n",
       "\n",
       "    .dataframe thead th {\n",
       "        text-align: right;\n",
       "    }\n",
       "</style>\n",
       "<table border=\"1\" class=\"dataframe\">\n",
       "  <thead>\n",
       "    <tr style=\"text-align: right;\">\n",
       "      <th>SentenceTypeAllChargesAtConvictionInContactEvent</th>\n",
       "      <th>0</th>\n",
       "      <th>1</th>\n",
       "      <th>2</th>\n",
       "      <th>4</th>\n",
       "    </tr>\n",
       "    <tr>\n",
       "      <th>ImposedSentenceAllChargeInContactEvent</th>\n",
       "      <th></th>\n",
       "      <th></th>\n",
       "      <th></th>\n",
       "      <th></th>\n",
       "    </tr>\n",
       "  </thead>\n",
       "  <tbody>\n",
       "    <tr>\n",
       "      <th>0.000000</th>\n",
       "      <td>4953</td>\n",
       "      <td>0</td>\n",
       "      <td>0</td>\n",
       "      <td>8779</td>\n",
       "    </tr>\n",
       "    <tr>\n",
       "      <th>0.032854</th>\n",
       "      <td>0</td>\n",
       "      <td>6</td>\n",
       "      <td>0</td>\n",
       "      <td>0</td>\n",
       "    </tr>\n",
       "    <tr>\n",
       "      <th>0.065708</th>\n",
       "      <td>3</td>\n",
       "      <td>21</td>\n",
       "      <td>0</td>\n",
       "      <td>0</td>\n",
       "    </tr>\n",
       "    <tr>\n",
       "      <th>0.098563</th>\n",
       "      <td>2</td>\n",
       "      <td>6</td>\n",
       "      <td>0</td>\n",
       "      <td>0</td>\n",
       "    </tr>\n",
       "    <tr>\n",
       "      <th>0.131417</th>\n",
       "      <td>4</td>\n",
       "      <td>10</td>\n",
       "      <td>0</td>\n",
       "      <td>0</td>\n",
       "    </tr>\n",
       "    <tr>\n",
       "      <th>...</th>\n",
       "      <td>...</td>\n",
       "      <td>...</td>\n",
       "      <td>...</td>\n",
       "      <td>...</td>\n",
       "    </tr>\n",
       "    <tr>\n",
       "      <th>1200.000000</th>\n",
       "      <td>0</td>\n",
       "      <td>0</td>\n",
       "      <td>1</td>\n",
       "      <td>0</td>\n",
       "    </tr>\n",
       "    <tr>\n",
       "      <th>1500.000000</th>\n",
       "      <td>0</td>\n",
       "      <td>0</td>\n",
       "      <td>1</td>\n",
       "      <td>0</td>\n",
       "    </tr>\n",
       "    <tr>\n",
       "      <th>1752.000000</th>\n",
       "      <td>0</td>\n",
       "      <td>0</td>\n",
       "      <td>1</td>\n",
       "      <td>0</td>\n",
       "    </tr>\n",
       "    <tr>\n",
       "      <th>1980.000000</th>\n",
       "      <td>0</td>\n",
       "      <td>0</td>\n",
       "      <td>1</td>\n",
       "      <td>0</td>\n",
       "    </tr>\n",
       "    <tr>\n",
       "      <th>2208.000000</th>\n",
       "      <td>0</td>\n",
       "      <td>0</td>\n",
       "      <td>1</td>\n",
       "      <td>0</td>\n",
       "    </tr>\n",
       "  </tbody>\n",
       "</table>\n",
       "<p>483 rows × 4 columns</p>\n",
       "</div>"
      ],
      "text/plain": [
       "SentenceTypeAllChargesAtConvictionInContactEvent     0   1  2     4\n",
       "ImposedSentenceAllChargeInContactEvent                             \n",
       "0.000000                                          4953   0  0  8779\n",
       "0.032854                                             0   6  0     0\n",
       "0.065708                                             3  21  0     0\n",
       "0.098563                                             2   6  0     0\n",
       "0.131417                                             4  10  0     0\n",
       "...                                                ...  .. ..   ...\n",
       "1200.000000                                          0   0  1     0\n",
       "1500.000000                                          0   0  1     0\n",
       "1752.000000                                          0   0  1     0\n",
       "1980.000000                                          0   0  1     0\n",
       "2208.000000                                          0   0  1     0\n",
       "\n",
       "[483 rows x 4 columns]"
      ]
     },
     "execution_count": 31,
     "metadata": {},
     "output_type": "execute_result"
    }
   ],
   "source": [
    "pd.crosstab(modified_justice_df['ImposedSentenceAllChargeInContactEvent'], modified_justice_df['SentenceTypeAllChargesAtConvictionInContactEvent'])"
   ]
  },
  {
   "cell_type": "markdown",
   "id": "5f706eaa",
   "metadata": {},
   "source": [
    "That looks like it makes much more sense! And we should still have those 274 NaNs from the cases which were labeled as 9's, so let's check..."
   ]
  },
  {
   "cell_type": "code",
   "execution_count": 32,
   "id": "6375d2ef",
   "metadata": {},
   "outputs": [
    {
     "data": {
      "text/plain": [
       "np.int64(274)"
      ]
     },
     "execution_count": 32,
     "metadata": {},
     "output_type": "execute_result"
    }
   ],
   "source": [
    "modified_justice_df['ImposedSentenceAllChargeInContactEvent'].isnull().sum()"
   ]
  },
  {
   "cell_type": "markdown",
   "id": "126327bf",
   "metadata": {},
   "source": [
    "So in conclusion, there were two issues that I was able to resolve thanks to the codebook - one, these were non-numerically stored, so I had to cast them over, and there were also blank values. The blank values for the 4 classified cases made sense to be imputed as 0s since those individuals would not have a sentence yet (hence 0), while the blank values for the 9 classified cases made sense to be kept as NaNs since those are unknowns. The data is now clean :)"
   ]
  },
  {
   "cell_type": "markdown",
   "id": "3eb1216a",
   "metadata": {},
   "source": [
    "## Q2 Stuff"
   ]
  },
  {
   "cell_type": "markdown",
   "id": "5a60a44e",
   "metadata": {},
   "source": [
    "**Q2.** Go to https://sharkattackfile.net/ and download their dataset on shark attacks (Hint: `GSAF5.xls`).\n",
    "\n",
    "1. Open the shark attack file using Pandas. It is probably not a csv file, so `read_csv` won't work.\n",
    "2. Drop any columns that do not contain data.\n",
    "3. Clean the year variable. Describe the range of values you see. Filter the rows to focus on attacks since 1940. Are attacks increasing, decreasing, or remaining constant over time?\n",
    "4. Clean the Age variable and make a histogram of the ages of the victims.\n",
    "5. What proportion of victims are male?\n",
    "6. Clean the `Type` variable so it only takes three values: Provoked and Unprovoked and Unknown. What proportion of attacks are unprovoked?\n",
    "7. Clean the `Fatal Y/N` variable so it only takes three values: Y, N, and Unknown.\n",
    "8. Are sharks more likely to launch unprovoked attacks on men or women? Is the attack more or less likely to be fatal when the attack is provoked or unprovoked? Is it more or less likely to be fatal when the victim is male or female? How do you feel about sharks?\n",
    "9. What proportion of attacks appear to be by white sharks? (Hint: `str.split()` makes a vector of text values into a list of lists, split by spaces.)"
   ]
  },
  {
   "cell_type": "markdown",
   "id": "874fb96c",
   "metadata": {},
   "source": [
    "### Q2.1"
   ]
  },
  {
   "cell_type": "code",
   "execution_count": 33,
   "id": "a3f03830",
   "metadata": {},
   "outputs": [],
   "source": [
    "shark = pd.read_excel('./data/GSAF5.xls')"
   ]
  },
  {
   "cell_type": "code",
   "execution_count": 34,
   "id": "62bf4200",
   "metadata": {},
   "outputs": [
    {
     "data": {
      "text/html": [
       "<div>\n",
       "<style scoped>\n",
       "    .dataframe tbody tr th:only-of-type {\n",
       "        vertical-align: middle;\n",
       "    }\n",
       "\n",
       "    .dataframe tbody tr th {\n",
       "        vertical-align: top;\n",
       "    }\n",
       "\n",
       "    .dataframe thead th {\n",
       "        text-align: right;\n",
       "    }\n",
       "</style>\n",
       "<table border=\"1\" class=\"dataframe\">\n",
       "  <thead>\n",
       "    <tr style=\"text-align: right;\">\n",
       "      <th></th>\n",
       "      <th>Date</th>\n",
       "      <th>Year</th>\n",
       "      <th>Type</th>\n",
       "      <th>Country</th>\n",
       "      <th>State</th>\n",
       "      <th>Location</th>\n",
       "      <th>Activity</th>\n",
       "      <th>Name</th>\n",
       "      <th>Sex</th>\n",
       "      <th>Age</th>\n",
       "      <th>...</th>\n",
       "      <th>Species</th>\n",
       "      <th>Source</th>\n",
       "      <th>pdf</th>\n",
       "      <th>href formula</th>\n",
       "      <th>href</th>\n",
       "      <th>Case Number</th>\n",
       "      <th>Case Number.1</th>\n",
       "      <th>original order</th>\n",
       "      <th>Unnamed: 21</th>\n",
       "      <th>Unnamed: 22</th>\n",
       "    </tr>\n",
       "  </thead>\n",
       "  <tbody>\n",
       "    <tr>\n",
       "      <th>0</th>\n",
       "      <td>16th August 2025</td>\n",
       "      <td>2025.0</td>\n",
       "      <td>Provoked</td>\n",
       "      <td>USA</td>\n",
       "      <td>Florida</td>\n",
       "      <td>Cayo Costa Boca Grande</td>\n",
       "      <td>Fishing</td>\n",
       "      <td>Shawn Meuse</td>\n",
       "      <td>M</td>\n",
       "      <td>?</td>\n",
       "      <td>...</td>\n",
       "      <td>Lemon shark 1.8 m (6ft)</td>\n",
       "      <td>Johannes Marchand: Kevin McMurray Trackingshar...</td>\n",
       "      <td>NaN</td>\n",
       "      <td>NaN</td>\n",
       "      <td>NaN</td>\n",
       "      <td>NaN</td>\n",
       "      <td>NaN</td>\n",
       "      <td>NaN</td>\n",
       "      <td>NaN</td>\n",
       "      <td>NaN</td>\n",
       "    </tr>\n",
       "    <tr>\n",
       "      <th>1</th>\n",
       "      <td>18th August</td>\n",
       "      <td>2025.0</td>\n",
       "      <td>Unprovoked</td>\n",
       "      <td>Australia</td>\n",
       "      <td>NSW</td>\n",
       "      <td>Cabarita Beach</td>\n",
       "      <td>Surfing</td>\n",
       "      <td>Brad Ross</td>\n",
       "      <td>M</td>\n",
       "      <td>?</td>\n",
       "      <td>...</td>\n",
       "      <td>5m (16.5ft) Great White</td>\n",
       "      <td>Bob Myatt GSAF The Guardian: 9 News: ABS News:...</td>\n",
       "      <td>NaN</td>\n",
       "      <td>NaN</td>\n",
       "      <td>NaN</td>\n",
       "      <td>NaN</td>\n",
       "      <td>NaN</td>\n",
       "      <td>NaN</td>\n",
       "      <td>NaN</td>\n",
       "      <td>NaN</td>\n",
       "    </tr>\n",
       "    <tr>\n",
       "      <th>2</th>\n",
       "      <td>17th August</td>\n",
       "      <td>2025.0</td>\n",
       "      <td>Unprovoked</td>\n",
       "      <td>Bahamas</td>\n",
       "      <td>Atlantic Ocean near Big Grand Cay</td>\n",
       "      <td>North of Grand Bahama near Freeport</td>\n",
       "      <td>Spearfishing</td>\n",
       "      <td>Not stated</td>\n",
       "      <td>M</td>\n",
       "      <td>63</td>\n",
       "      <td>...</td>\n",
       "      <td>Undetermined</td>\n",
       "      <td>Ralph Collier GSAF and Kevin MCMurray Tracking...</td>\n",
       "      <td>NaN</td>\n",
       "      <td>NaN</td>\n",
       "      <td>NaN</td>\n",
       "      <td>NaN</td>\n",
       "      <td>NaN</td>\n",
       "      <td>NaN</td>\n",
       "      <td>NaN</td>\n",
       "      <td>NaN</td>\n",
       "    </tr>\n",
       "    <tr>\n",
       "      <th>3</th>\n",
       "      <td>7th August</td>\n",
       "      <td>2025.0</td>\n",
       "      <td>Unprovoked</td>\n",
       "      <td>Australia</td>\n",
       "      <td>NSW</td>\n",
       "      <td>Tathra Beach</td>\n",
       "      <td>Surfing</td>\n",
       "      <td>Bowie Daley</td>\n",
       "      <td>M</td>\n",
       "      <td>9</td>\n",
       "      <td>...</td>\n",
       "      <td>Suspected Great White</td>\n",
       "      <td>Bob Myatt GSAF</td>\n",
       "      <td>NaN</td>\n",
       "      <td>NaN</td>\n",
       "      <td>NaN</td>\n",
       "      <td>NaN</td>\n",
       "      <td>NaN</td>\n",
       "      <td>NaN</td>\n",
       "      <td>NaN</td>\n",
       "      <td>NaN</td>\n",
       "    </tr>\n",
       "    <tr>\n",
       "      <th>4</th>\n",
       "      <td>1st August</td>\n",
       "      <td>2025.0</td>\n",
       "      <td>Unprovoked</td>\n",
       "      <td>Puerto Rico</td>\n",
       "      <td>Carolina</td>\n",
       "      <td>Carolina Beach</td>\n",
       "      <td>Wading</td>\n",
       "      <td>Eleonora Boi</td>\n",
       "      <td>F</td>\n",
       "      <td>39</td>\n",
       "      <td>...</td>\n",
       "      <td>Undetermined</td>\n",
       "      <td>Kevin McMurray Trackingsharks.com: NY Post</td>\n",
       "      <td>NaN</td>\n",
       "      <td>NaN</td>\n",
       "      <td>NaN</td>\n",
       "      <td>NaN</td>\n",
       "      <td>NaN</td>\n",
       "      <td>NaN</td>\n",
       "      <td>NaN</td>\n",
       "      <td>NaN</td>\n",
       "    </tr>\n",
       "  </tbody>\n",
       "</table>\n",
       "<p>5 rows × 23 columns</p>\n",
       "</div>"
      ],
      "text/plain": [
       "               Date    Year        Type      Country  \\\n",
       "0  16th August 2025  2025.0    Provoked          USA   \n",
       "1       18th August  2025.0  Unprovoked    Australia   \n",
       "2       17th August  2025.0  Unprovoked      Bahamas   \n",
       "3        7th August  2025.0  Unprovoked    Australia   \n",
       "4        1st August  2025.0  Unprovoked  Puerto Rico   \n",
       "\n",
       "                               State                             Location  \\\n",
       "0                            Florida               Cayo Costa Boca Grande   \n",
       "1                                NSW                       Cabarita Beach   \n",
       "2  Atlantic Ocean near Big Grand Cay  North of Grand Bahama near Freeport   \n",
       "3                                NSW                        Tathra Beach    \n",
       "4                           Carolina                       Carolina Beach   \n",
       "\n",
       "       Activity          Name Sex Age  ...                 Species   \\\n",
       "0       Fishing   Shawn Meuse   M   ?  ...  Lemon shark 1.8 m (6ft)   \n",
       "1       Surfing     Brad Ross   M   ?  ...  5m (16.5ft) Great White   \n",
       "2  Spearfishing    Not stated   M  63  ...             Undetermined   \n",
       "3       Surfing   Bowie Daley   M   9  ...    Suspected Great White   \n",
       "4        Wading  Eleonora Boi   F  39  ...             Undetermined   \n",
       "\n",
       "                                              Source  pdf href formula href  \\\n",
       "0  Johannes Marchand: Kevin McMurray Trackingshar...  NaN          NaN  NaN   \n",
       "1  Bob Myatt GSAF The Guardian: 9 News: ABS News:...  NaN          NaN  NaN   \n",
       "2  Ralph Collier GSAF and Kevin MCMurray Tracking...  NaN          NaN  NaN   \n",
       "3                                     Bob Myatt GSAF  NaN          NaN  NaN   \n",
       "4         Kevin McMurray Trackingsharks.com: NY Post  NaN          NaN  NaN   \n",
       "\n",
       "  Case Number Case Number.1 original order Unnamed: 21 Unnamed: 22  \n",
       "0         NaN           NaN            NaN         NaN         NaN  \n",
       "1         NaN           NaN            NaN         NaN         NaN  \n",
       "2         NaN           NaN            NaN         NaN         NaN  \n",
       "3         NaN           NaN            NaN         NaN         NaN  \n",
       "4         NaN           NaN            NaN         NaN         NaN  \n",
       "\n",
       "[5 rows x 23 columns]"
      ]
     },
     "execution_count": 34,
     "metadata": {},
     "output_type": "execute_result"
    }
   ],
   "source": [
    "shark.head()"
   ]
  },
  {
   "cell_type": "markdown",
   "id": "765e69c0",
   "metadata": {},
   "source": [
    "### Q2.2"
   ]
  },
  {
   "cell_type": "code",
   "execution_count": 35,
   "id": "449c6819",
   "metadata": {},
   "outputs": [
    {
     "name": "stdout",
     "output_type": "stream",
     "text": [
      "<class 'pandas.core.frame.DataFrame'>\n",
      "RangeIndex: 7042 entries, 0 to 7041\n",
      "Data columns (total 23 columns):\n",
      " #   Column          Non-Null Count  Dtype  \n",
      "---  ------          --------------  -----  \n",
      " 0   Date            7042 non-null   object \n",
      " 1   Year            7040 non-null   float64\n",
      " 2   Type            7024 non-null   object \n",
      " 3   Country         6992 non-null   object \n",
      " 4   State           6557 non-null   object \n",
      " 5   Location        6475 non-null   object \n",
      " 6   Activity        6457 non-null   object \n",
      " 7   Name            6823 non-null   object \n",
      " 8   Sex             6463 non-null   object \n",
      " 9   Age             4048 non-null   object \n",
      " 10  Injury          7007 non-null   object \n",
      " 11  Fatal Y/N       6481 non-null   object \n",
      " 12  Time            3516 non-null   object \n",
      " 13  Species         3911 non-null   object \n",
      " 14  Source          7022 non-null   object \n",
      " 15  pdf             6799 non-null   object \n",
      " 16  href formula    6794 non-null   object \n",
      " 17  href            6796 non-null   object \n",
      " 18  Case Number     6798 non-null   object \n",
      " 19  Case Number.1   6797 non-null   object \n",
      " 20  original order  6799 non-null   float64\n",
      " 21  Unnamed: 21     1 non-null      object \n",
      " 22  Unnamed: 22     2 non-null      object \n",
      "dtypes: float64(2), object(21)\n",
      "memory usage: 1.2+ MB\n"
     ]
    }
   ],
   "source": [
    "shark.info()"
   ]
  },
  {
   "cell_type": "markdown",
   "id": "b711651c",
   "metadata": {},
   "source": [
    "So for step 2, looks like there's only two columns with no data - Unnamed: 21, and Unnamed: 22."
   ]
  },
  {
   "cell_type": "code",
   "execution_count": 36,
   "id": "2b3b00ff",
   "metadata": {},
   "outputs": [],
   "source": [
    "shark_modified = shark.copy()\n",
    "shark_modified = shark_modified.drop(columns=['Unnamed: 21', 'Unnamed: 22'])"
   ]
  },
  {
   "cell_type": "code",
   "execution_count": 37,
   "id": "82be16c2",
   "metadata": {},
   "outputs": [
    {
     "name": "stdout",
     "output_type": "stream",
     "text": [
      "<class 'pandas.core.frame.DataFrame'>\n",
      "RangeIndex: 7042 entries, 0 to 7041\n",
      "Data columns (total 21 columns):\n",
      " #   Column          Non-Null Count  Dtype  \n",
      "---  ------          --------------  -----  \n",
      " 0   Date            7042 non-null   object \n",
      " 1   Year            7040 non-null   float64\n",
      " 2   Type            7024 non-null   object \n",
      " 3   Country         6992 non-null   object \n",
      " 4   State           6557 non-null   object \n",
      " 5   Location        6475 non-null   object \n",
      " 6   Activity        6457 non-null   object \n",
      " 7   Name            6823 non-null   object \n",
      " 8   Sex             6463 non-null   object \n",
      " 9   Age             4048 non-null   object \n",
      " 10  Injury          7007 non-null   object \n",
      " 11  Fatal Y/N       6481 non-null   object \n",
      " 12  Time            3516 non-null   object \n",
      " 13  Species         3911 non-null   object \n",
      " 14  Source          7022 non-null   object \n",
      " 15  pdf             6799 non-null   object \n",
      " 16  href formula    6794 non-null   object \n",
      " 17  href            6796 non-null   object \n",
      " 18  Case Number     6798 non-null   object \n",
      " 19  Case Number.1   6797 non-null   object \n",
      " 20  original order  6799 non-null   float64\n",
      "dtypes: float64(2), object(19)\n",
      "memory usage: 1.1+ MB\n"
     ]
    }
   ],
   "source": [
    "shark_modified.info()"
   ]
  },
  {
   "cell_type": "code",
   "execution_count": 38,
   "id": "7a240554",
   "metadata": {},
   "outputs": [
    {
     "data": {
      "text/plain": [
       "Year\n",
       "2015.0    143\n",
       "2017.0    141\n",
       "2016.0    133\n",
       "0.0       129\n",
       "2011.0    128\n",
       "         ... \n",
       "1785.0      1\n",
       "1784.0      1\n",
       "1783.0      1\n",
       "1780.0      1\n",
       "1804.0      1\n",
       "Name: count, Length: 262, dtype: int64"
      ]
     },
     "execution_count": 38,
     "metadata": {},
     "output_type": "execute_result"
    }
   ],
   "source": [
    "shark_modified['Year'].value_counts(dropna=False)"
   ]
  },
  {
   "cell_type": "code",
   "execution_count": 39,
   "id": "a35b7a0e",
   "metadata": {},
   "outputs": [
    {
     "data": {
      "text/plain": [
       "count    7040.000000\n",
       "mean     1935.621449\n",
       "std       271.221061\n",
       "min         0.000000\n",
       "25%      1948.000000\n",
       "50%      1986.000000\n",
       "75%      2010.000000\n",
       "max      2026.000000\n",
       "Name: Year, dtype: float64"
      ]
     },
     "execution_count": 39,
     "metadata": {},
     "output_type": "execute_result"
    }
   ],
   "source": [
    "shark_modified['Year'].describe()"
   ]
  },
  {
   "cell_type": "markdown",
   "id": "c43bc390",
   "metadata": {},
   "source": [
    "Hmm... the range of values for the year seem to go from 0, to 2026. How odd."
   ]
  },
  {
   "cell_type": "markdown",
   "id": "f26ab9ae",
   "metadata": {},
   "source": [
    "### Q2.3"
   ]
  },
  {
   "cell_type": "markdown",
   "id": "4dea7a96",
   "metadata": {},
   "source": [
    "The following code is for step 3. Let's filter only those 1940 and beyond and see the trend!"
   ]
  },
  {
   "cell_type": "code",
   "execution_count": 40,
   "id": "6a690bf5",
   "metadata": {},
   "outputs": [],
   "source": [
    "shark_years_modified = shark_modified[shark_modified['Year'] >= 1940]"
   ]
  },
  {
   "cell_type": "code",
   "execution_count": 41,
   "id": "bfb993ff",
   "metadata": {},
   "outputs": [
    {
     "data": {
      "text/html": [
       "<div>\n",
       "<style scoped>\n",
       "    .dataframe tbody tr th:only-of-type {\n",
       "        vertical-align: middle;\n",
       "    }\n",
       "\n",
       "    .dataframe tbody tr th {\n",
       "        vertical-align: top;\n",
       "    }\n",
       "\n",
       "    .dataframe thead th {\n",
       "        text-align: right;\n",
       "    }\n",
       "</style>\n",
       "<table border=\"1\" class=\"dataframe\">\n",
       "  <thead>\n",
       "    <tr style=\"text-align: right;\">\n",
       "      <th></th>\n",
       "      <th>Year</th>\n",
       "      <th>original order</th>\n",
       "    </tr>\n",
       "  </thead>\n",
       "  <tbody>\n",
       "    <tr>\n",
       "      <th>count</th>\n",
       "      <td>5507.000000</td>\n",
       "      <td>5268.000000</td>\n",
       "    </tr>\n",
       "    <tr>\n",
       "      <th>mean</th>\n",
       "      <td>1992.225350</td>\n",
       "      <td>4165.775626</td>\n",
       "    </tr>\n",
       "    <tr>\n",
       "      <th>std</th>\n",
       "      <td>24.169336</td>\n",
       "      <td>1521.433279</td>\n",
       "    </tr>\n",
       "    <tr>\n",
       "      <th>min</th>\n",
       "      <td>1940.000000</td>\n",
       "      <td>1531.000000</td>\n",
       "    </tr>\n",
       "    <tr>\n",
       "      <th>25%</th>\n",
       "      <td>1970.000000</td>\n",
       "      <td>2848.750000</td>\n",
       "    </tr>\n",
       "    <tr>\n",
       "      <th>50%</th>\n",
       "      <td>2000.000000</td>\n",
       "      <td>4165.500000</td>\n",
       "    </tr>\n",
       "    <tr>\n",
       "      <th>75%</th>\n",
       "      <td>2013.000000</td>\n",
       "      <td>5482.250000</td>\n",
       "    </tr>\n",
       "    <tr>\n",
       "      <th>max</th>\n",
       "      <td>2026.000000</td>\n",
       "      <td>6802.000000</td>\n",
       "    </tr>\n",
       "  </tbody>\n",
       "</table>\n",
       "</div>"
      ],
      "text/plain": [
       "              Year  original order\n",
       "count  5507.000000     5268.000000\n",
       "mean   1992.225350     4165.775626\n",
       "std      24.169336     1521.433279\n",
       "min    1940.000000     1531.000000\n",
       "25%    1970.000000     2848.750000\n",
       "50%    2000.000000     4165.500000\n",
       "75%    2013.000000     5482.250000\n",
       "max    2026.000000     6802.000000"
      ]
     },
     "execution_count": 41,
     "metadata": {},
     "output_type": "execute_result"
    }
   ],
   "source": [
    "shark_years_modified.describe()"
   ]
  },
  {
   "cell_type": "code",
   "execution_count": 42,
   "id": "1ec7fcc3",
   "metadata": {},
   "outputs": [
    {
     "data": {
      "text/plain": [
       "Year\n",
       "2015.0    143\n",
       "2017.0    141\n",
       "2016.0    133\n",
       "2011.0    128\n",
       "2014.0    126\n",
       "         ... \n",
       "1946.0     26\n",
       "1979.0     25\n",
       "1940.0     24\n",
       "1945.0     16\n",
       "2026.0      1\n",
       "Name: count, Length: 87, dtype: int64"
      ]
     },
     "execution_count": 42,
     "metadata": {},
     "output_type": "execute_result"
    }
   ],
   "source": [
    "shark_years_modified['Year'].value_counts(dropna=False)"
   ]
  },
  {
   "cell_type": "markdown",
   "id": "1c3184b3",
   "metadata": {},
   "source": [
    "So, just off a tiny look it seems like since 1940 there's been an increase, but how about let's just plot it on a histogram and make a more definitive conclusion?"
   ]
  },
  {
   "cell_type": "code",
   "execution_count": 43,
   "id": "47bfdeb4",
   "metadata": {},
   "outputs": [
    {
     "data": {
      "text/plain": [
       "<Axes: >"
      ]
     },
     "execution_count": 43,
     "metadata": {},
     "output_type": "execute_result"
    },
    {
     "data": {
      "image/png": "[encoded data removed]",
      "text/plain": [
       "<Figure size 640x480 with 1 Axes>"
      ]
     },
     "metadata": {},
     "output_type": "display_data"
    }
   ],
   "source": [
    "shark_years_modified['Year'].hist()"
   ]
  },
  {
   "cell_type": "markdown",
   "id": "30fc3544",
   "metadata": {},
   "source": [
    "So yeah, definitely seems like there has been more shark attacks recently compared to the 20th century, but there was a sharp peak somewhere around the 2010s that decreased in the 2020s."
   ]
  },
  {
   "cell_type": "markdown",
   "id": "b2a10d90",
   "metadata": {},
   "source": [
    "### Q2.4"
   ]
  },
  {
   "cell_type": "markdown",
   "id": "19760735",
   "metadata": {},
   "source": [
    "OK. Now we're going to deal with the ages. Now, I will note this; I decided to continue using the cleaned version of the data as these steps progress. This is important, because the remaining parts of these questions will be contingent on the fact that the data has been filtered to only include entries with the year being 1940 or more recent. I feel like this is a valid interpretation of the instructions, and if this was not the case then that is likely the reason for any differences (i.e. proportions, graph shapes, etc.) from what I was supposed to do instead! Thanks :)"
   ]
  },
  {
   "cell_type": "code",
   "execution_count": 44,
   "id": "5ebed0dc",
   "metadata": {},
   "outputs": [
    {
     "data": {
      "text/plain": [
       "array(['?', '63', '9', '39', '19', '7', '85', '69', '18', '66', '21',\n",
       "       '40', '37', '16', '20', '12', '42', '26', '14', '45', '30', '30+',\n",
       "       '56', '40+', '29', 35, 58, 29, 24, 20, 55, 17, 12, 37, 36, 23, 40,\n",
       "       28, 69, 48, '60+', 57, 45, 61, 27, 38, 16, 68, 33, 30, 15, 41, 14,\n",
       "       43, 26, 'Middle age', 18, 21, 49, 25, 46, 19, 65, 64, '13', nan,\n",
       "       '11', '46', '32', '10', '64', '62', '22', '15', '52', '44', '47',\n",
       "       '55', '59', '8', '50', '34', '38', '30s', '20/30', '35', '65',\n",
       "       '20s', '77', '60', '49', '!2', '24', '73', '25', '50s', '58', '67',\n",
       "       '17', '6', '41', '53', '68', '43', '51', '31', 39, 51, 10, 13, 60,\n",
       "       '40s', 62, 'teen', 8, 22, 32, 56, 'Teen', 42, 50, 'M', 9, 31, 11,\n",
       "       34, '!6', '!!', 47, 7, 71, 59, 53, 54, 75, '45 and 15', 73, 52, 70,\n",
       "       4, 63, 44, '28 & 22', '22, 57, 31', '60s', \"20's\", 67, 74,\n",
       "       '9 & 60', 'a minor', 6, 3, 82, '40?', 66, 72, '23', '36', '71',\n",
       "       '48', '70', '18 months', '57', '28', '33', '61', '74', '27', '3',\n",
       "       '28 & 26', '5', '54', '86', '18 or 20', '12 or 13', '46 & 34',\n",
       "       '28, 23 & 30', 'Teens', 77, '36 & 26', '8 or 10', 84, '\\xa0 ', ' ',\n",
       "       '30 or 36', '6½', '21 & ?', '33 or 37', 'mid-30s', '23 & 20', 5,\n",
       "       ' 30', '7      &    31', ' 28', '20?', \"60's\", '32 & 30',\n",
       "       '16 to 18', '87', 'Elderly', 'mid-20s', 'Ca. 33', '74 ', '45 ',\n",
       "       '21 or 26', '20 ', '>50', '18 to 22', 'adult', '9 & 12', '? & 19',\n",
       "       '9 months', '25 to 35', '23 & 26', 1, '(adult)', '33 & 37',\n",
       "       '25 or 28', '37, 67, 35, 27,  ? & 27', '21, 34,24 & 35', '30 & 32',\n",
       "       '50 & 30', '17 & 35', 'X', '\"middle-age\"', '13 or 18', '34 & 19',\n",
       "       '33 & 26', '2 to 3 months', '4', 'MAKE LINE GREEN', ' 43', '81',\n",
       "       '\"young\"', '7 or 8', 78, '17 & 16', 'F'], dtype=object)"
      ]
     },
     "execution_count": 44,
     "metadata": {},
     "output_type": "execute_result"
    }
   ],
   "source": [
    "shark_ages_modified = shark_years_modified.copy()\n",
    "shark_ages_modified['Age'].unique()"
   ]
  },
  {
   "cell_type": "markdown",
   "id": "de5381a5",
   "metadata": {},
   "source": [
    "Okay... jeez. There's a LOT of disgusting values in here. For starters, I'm seeing stuff like \"Middle age\", \"60+\", \"nan\", \"# and #\", etc. That's tragically bad. Looks like there's a lot of cleaning to do here. Now, if I'm being honest, I feel like there's only two cases I need to handle for sure here. The first of the weird cases are the \"#+\" cases - that is, 30+, 40+, etc. now there's two ways to handle this I think; either make them NaNs because it's unclear data, or just round them off to their lower bound (for example, 30+ or 30s -> 30). Another thing of note is cases where it's \"# & #\", or a list of numbers in a row (like, \"37, 67, 35, 27,  ? & 27\"). I think one thing I could do is to separate each of these into their own entries duplicated but with each of the ages separately - my biggest quarrel with that is it'd kinda be violating 2NF for databases, so the other option is just to coerce them by making them NaNs. And honestly, for my sanity, I'm going to be doing that. For everything else it's stuff like \"adult\", \"Elderly\", yeah those are ALL becoming NaNs. NO shot I can do anything about that. Anyhoo, here's some regex I spent a while writing up to catch as many cases as possible before I got tired. Shout-out https://regex101.com/."
   ]
  },
  {
   "cell_type": "code",
   "execution_count": 45,
   "id": "966cc219",
   "metadata": {},
   "outputs": [],
   "source": [
    "shark_ages_modified['Age'] = shark_ages_modified['Age'].replace({r'(\\d)s': r'\\1'}, regex=True) # this one deals with \"#s\"\n",
    "shark_ages_modified['Age'] = shark_ages_modified['Age'].replace({r'(\\d)\\'s': r'\\1'}, regex=True) # this one deals with \"#'s\"\n",
    "shark_ages_modified['Age'] = shark_ages_modified['Age'].replace({r'(\\d)\\+': r'\\1'}, regex=True) # this one deals with \"#+\"\n",
    "shark_ages_modified['Age'] = shark_ages_modified['Age'].replace({r'\\s(\\d)': r'\\1'}, regex=True) # this one deals with \" #\"\n",
    "shark_ages_modified['Age'] = shark_ages_modified['Age'].replace({r'(\\d)\\s': r'\\1'}, regex=True) # this one deals with \"# \"\n"
   ]
  },
  {
   "cell_type": "code",
   "execution_count": 46,
   "id": "6e7c9c99",
   "metadata": {},
   "outputs": [
    {
     "data": {
      "text/plain": [
       "array(['?', '63', '9', '39', '19', '7', '85', '69', '18', '66', '21',\n",
       "       '40', '37', '16', '20', '12', '42', '26', '14', '45', '30', '56',\n",
       "       '29', 35, 58, 29, 24, 20, 55, 17, 12, 37, 36, 23, 40, 28, 69, 48,\n",
       "       '60', 57, 45, 61, 27, 38, 16, 68, 33, 30, 15, 41, 14, 43, 26,\n",
       "       'Middle age', 18, 21, 49, 25, 46, 19, 65, 64, '13', nan, '11',\n",
       "       '46', '32', '10', '64', '62', '22', '15', '52', '44', '47', '55',\n",
       "       '59', '8', '50', '34', '38', '20/30', '35', '65', '77', '49', '!2',\n",
       "       '24', '73', '25', '58', '67', '17', '6', '41', '53', '68', '43',\n",
       "       '51', '31', 39, 51, 10, 13, 60, 62, 'teen', 8, 22, 32, 56, 'Teen',\n",
       "       42, 50, 'M', 9, 31, 11, 34, '!6', '!!', 47, 7, 71, 59, 53, 54, 75,\n",
       "       '45and15', 73, 52, 70, 4, 63, 44, '28&22', '22,57,31', 67, 74,\n",
       "       '9&60', 'a minor', 6, 3, 82, '40?', 66, 72, '23', '36', '71', '48',\n",
       "       '70', '18months', '57', '28', '33', '61', '74', '27', '3', '28&26',\n",
       "       '5', '54', '86', '18or20', '12or13', '46&34', '28,23&30', 'Teens',\n",
       "       77, '36&26', '8or10', 84, '\\xa0 ', ' ', '30or36', '6½', '21& ?',\n",
       "       '33or37', 'mid-30', '23&20', 5, '7     &   31', '20?', '32&30',\n",
       "       '16to18', '87', 'Elderly', 'mid-20', 'Ca.33', '21or26', '>50',\n",
       "       '18to22', 'adult', '9&12', '? &19', '9months', '25to35', '23&26',\n",
       "       1, '(adult)', '33&37', '25or28', '37,67,35,27,  ? &27',\n",
       "       '21,34,24&35', '30&32', '50&30', '17&35', 'X', '\"middle-age\"',\n",
       "       '13or18', '34&19', '33&26', '2to3months', '4', 'MAKE LINE GREEN',\n",
       "       '81', '\"young\"', '7or8', 78, '17&16', 'F'], dtype=object)"
      ]
     },
     "execution_count": 46,
     "metadata": {},
     "output_type": "execute_result"
    }
   ],
   "source": [
    "shark_ages_modified['Age'].unique()"
   ]
  },
  {
   "cell_type": "markdown",
   "id": "dd4e0769",
   "metadata": {},
   "source": [
    "And I think I've done enough. Anything else includes \"or\", or it includes \"and\" (multiple ages), both of which I think are not worthy of handling since there's no obvious way to handle them. Everything else is pretty much just junk (stuff like 0/0, \"Teen\", etc) and thus I'll just coerce those to NaNs. Let's take a look now!"
   ]
  },
  {
   "cell_type": "code",
   "execution_count": 47,
   "id": "44d80164",
   "metadata": {},
   "outputs": [],
   "source": [
    "shark_ages_modified['Age'] = pd.to_numeric(shark_ages_modified['Age'], errors='coerce')"
   ]
  },
  {
   "cell_type": "code",
   "execution_count": 48,
   "id": "b853f570",
   "metadata": {},
   "outputs": [
    {
     "data": {
      "text/plain": [
       "array([nan, 63.,  9., 39., 19.,  7., 85., 69., 18., 66., 21., 40., 37.,\n",
       "       16., 20., 12., 42., 26., 14., 45., 30., 56., 29., 35., 58., 24.,\n",
       "       55., 17., 36., 23., 28., 48., 60., 57., 61., 27., 38., 68., 33.,\n",
       "       15., 41., 43., 49., 25., 46., 65., 64., 13., 11., 32., 10., 62.,\n",
       "       22., 52., 44., 47., 59.,  8., 50., 34., 77., 73., 67.,  6., 53.,\n",
       "       51., 31., 71., 54., 75., 70.,  4., 74.,  3., 82., 72.,  5., 86.,\n",
       "       84., 87.,  1., 81., 78.])"
      ]
     },
     "execution_count": 48,
     "metadata": {},
     "output_type": "execute_result"
    }
   ],
   "source": [
    "shark_ages_modified['Age'].unique()"
   ]
  },
  {
   "cell_type": "markdown",
   "id": "3436b06f",
   "metadata": {},
   "source": [
    "Yep. Looks a lot better. Let's graph it on a histogram now."
   ]
  },
  {
   "cell_type": "code",
   "execution_count": 49,
   "id": "3ef5341e",
   "metadata": {},
   "outputs": [
    {
     "data": {
      "text/plain": [
       "<Axes: >"
      ]
     },
     "execution_count": 49,
     "metadata": {},
     "output_type": "execute_result"
    },
    {
     "data": {
      "image/png": "[encoded data removed]",
      "text/plain": [
       "<Figure size 640x480 with 1 Axes>"
      ]
     },
     "metadata": {},
     "output_type": "display_data"
    }
   ],
   "source": [
    "shark_ages_modified['Age'].hist()"
   ]
  },
  {
   "cell_type": "markdown",
   "id": "0aac2f0a",
   "metadata": {},
   "source": [
    "Looks pretty clean to me."
   ]
  },
  {
   "cell_type": "markdown",
   "id": "a933cb04",
   "metadata": {},
   "source": [
    "### Q2.5"
   ]
  },
  {
   "cell_type": "markdown",
   "id": "6800dcb6",
   "metadata": {},
   "source": [
    "Alright, this one should thankfully be short and sweet. It's literally just, what proportion of the victims are male, so we'll check out the sex column. Now, I'll first make sure that there aren't any weird values..."
   ]
  },
  {
   "cell_type": "code",
   "execution_count": 50,
   "id": "bcb20455",
   "metadata": {},
   "outputs": [
    {
     "data": {
      "text/plain": [
       "array(['M', 'F', 'F ', 'M ', nan, ' M', 'm', 'lli', 'M x 2'], dtype=object)"
      ]
     },
     "execution_count": 50,
     "metadata": {},
     "output_type": "execute_result"
    }
   ],
   "source": [
    "shark_ages_modified['Sex'].unique()"
   ]
  },
  {
   "cell_type": "markdown",
   "id": "08dd4887",
   "metadata": {},
   "source": [
    "...Yeah, of course it wouldn't be that easy. Now, I genuinely have NO idea what the HECK M x 2 here means. I suspect it means, there were two males, but let's just take a look at how many instances of it there actually are:"
   ]
  },
  {
   "cell_type": "code",
   "execution_count": 51,
   "id": "40161107",
   "metadata": {},
   "outputs": [
    {
     "data": {
      "text/plain": [
       "Sex\n",
       "M        4328\n",
       "F         718\n",
       "NaN       452\n",
       "M           3\n",
       "F           2\n",
       " M          1\n",
       "m           1\n",
       "lli         1\n",
       "M x 2       1\n",
       "Name: count, dtype: int64"
      ]
     },
     "execution_count": 51,
     "metadata": {},
     "output_type": "execute_result"
    }
   ],
   "source": [
    "shark_ages_modified['Sex'].value_counts(dropna=False)"
   ]
  },
  {
   "cell_type": "markdown",
   "id": "e2bc3998",
   "metadata": {},
   "source": [
    "Figures that there's only one. So I'll just make lli and M x 2 NaNs. As for the others, just like in the previous one, I'll just write regex to handle them :)"
   ]
  },
  {
   "cell_type": "code",
   "execution_count": 52,
   "id": "9bcea883",
   "metadata": {},
   "outputs": [],
   "source": [
    "shark_sex_modified = shark_ages_modified.copy()\n",
    "shark_sex_modified['Sex'] = shark_sex_modified['Sex'].replace({r'([MF])\\s': r'\\1'}, regex=True) # this one deals with \"F \" or \"M \"\n",
    "shark_sex_modified['Sex'] = shark_sex_modified['Sex'].replace({r'\\s([MF])': r'\\1'}, regex=True) # this one deals with \" F\" or \" M\"\n",
    "shark_sex_modified['Sex'] = shark_sex_modified['Sex'].replace({r'm': r'M'}, regex=True) # since there's only one case of lowercase (m), just enforce that to upper\n",
    "# and last but not least, the remaining just become NaNs\n",
    "shark_sex_modified['Sex'] = shark_sex_modified['Sex'].replace({r'lli': np.nan}, regex=True) # lli case\n",
    "shark_sex_modified['Sex'] = shark_sex_modified['Sex'].replace({r'Mx 2': np.nan}, regex=True) # M x 2 case"
   ]
  },
  {
   "cell_type": "code",
   "execution_count": 53,
   "id": "34fd726b",
   "metadata": {},
   "outputs": [
    {
     "data": {
      "text/plain": [
       "Sex\n",
       "M      4333\n",
       "F       720\n",
       "NaN     454\n",
       "Name: count, dtype: int64"
      ]
     },
     "execution_count": 53,
     "metadata": {},
     "output_type": "execute_result"
    }
   ],
   "source": [
    "shark_sex_modified['Sex'].value_counts(dropna=False)"
   ]
  },
  {
   "cell_type": "markdown",
   "id": "00730e9b",
   "metadata": {},
   "source": [
    "Looks a little better to me! Let's see what the proportion of males is NOW!"
   ]
  },
  {
   "cell_type": "code",
   "execution_count": 54,
   "id": "eb49a970",
   "metadata": {},
   "outputs": [
    {
     "data": {
      "text/plain": [
       "0.7868167786453605"
      ]
     },
     "execution_count": 54,
     "metadata": {},
     "output_type": "execute_result"
    }
   ],
   "source": [
    "male_proportion = 4333 / (4333 + 720 + 454)\n",
    "male_proportion"
   ]
  },
  {
   "cell_type": "markdown",
   "id": "1f7bf972",
   "metadata": {},
   "source": [
    "So if we're counting NaNs, they're about 78% of shark attacks. Yikes."
   ]
  },
  {
   "cell_type": "markdown",
   "id": "dc8787e9",
   "metadata": {},
   "source": [
    "### Q2.6"
   ]
  },
  {
   "cell_type": "markdown",
   "id": "379b0f16",
   "metadata": {},
   "source": [
    "As is standard, let's go ahead and see what this Type variable actually looks like."
   ]
  },
  {
   "cell_type": "code",
   "execution_count": 55,
   "id": "c99e9291",
   "metadata": {},
   "outputs": [
    {
     "data": {
      "text/plain": [
       "array(['Provoked', 'Unprovoked', 'Questionable', 'unprovoked',\n",
       "       ' Provoked', 'Watercraft', 'Sea Disaster', nan, '?', 'Unconfirmed',\n",
       "       'Unverified', 'Invalid', 'Under investigation', 'Boat'],\n",
       "      dtype=object)"
      ]
     },
     "execution_count": 55,
     "metadata": {},
     "output_type": "execute_result"
    }
   ],
   "source": [
    "shark_sex_modified['Type'].unique()"
   ]
  },
  {
   "cell_type": "markdown",
   "id": "98900acf",
   "metadata": {},
   "source": [
    "Alright, and the counts?"
   ]
  },
  {
   "cell_type": "code",
   "execution_count": 56,
   "id": "ced967de",
   "metadata": {},
   "outputs": [
    {
     "data": {
      "text/plain": [
       "Type\n",
       "Unprovoked             4097\n",
       "Provoked                518\n",
       "Invalid                 402\n",
       "Watercraft              280\n",
       "Sea Disaster            156\n",
       "Questionable             26\n",
       "NaN                      14\n",
       "Boat                      7\n",
       " Provoked                 2\n",
       "unprovoked                1\n",
       "?                         1\n",
       "Unconfirmed               1\n",
       "Unverified                1\n",
       "Under investigation       1\n",
       "Name: count, dtype: int64"
      ]
     },
     "execution_count": 56,
     "metadata": {},
     "output_type": "execute_result"
    }
   ],
   "source": [
    "shark_sex_modified['Type'].value_counts(dropna=False)"
   ]
  },
  {
   "cell_type": "markdown",
   "id": "9a12e3d2",
   "metadata": {},
   "source": [
    "Well, as far as I'm concerned, stuff like \"Sea Disaster\", \"Watercraft\", and \"Questionable\" (big ones) are all going to unknown. How unfortunate, but it just seems like the easiest way to clean this (and the least misleading)."
   ]
  },
  {
   "cell_type": "code",
   "execution_count": 57,
   "id": "538439e4",
   "metadata": {},
   "outputs": [],
   "source": [
    "shark_type_modified = shark_sex_modified.copy()\n",
    "# yeah I'm not writing out comments for each of these, they're pretty self explanatory\n",
    "shark_type_modified['Type'] = shark_type_modified['Type'].replace({'Invalid': 'Unknown'}, regex=True)\n",
    "shark_type_modified['Type'] = shark_type_modified['Type'].replace({'Watercraft': 'Unknown'}, regex=True)\n",
    "shark_type_modified['Type'] = shark_type_modified['Type'].replace({'Sea Disaster': 'Unknown'}, regex=True)\n",
    "shark_type_modified['Type'] = shark_type_modified['Type'].replace({'Questionable': 'Unknown'}, regex=True)\n",
    "shark_type_modified['Type'] = shark_type_modified['Type'].replace({'Boat': 'Unknown'}, regex=True)\n",
    "shark_type_modified['Type'] = shark_type_modified['Type'].replace({'?': 'Unknown'}) # can't say this ones regex because ? is a special char\n",
    "shark_type_modified['Type'] = shark_type_modified['Type'].replace({'Unconfirmed': 'Unknown'}, regex=True)\n",
    "shark_type_modified['Type'] = shark_type_modified['Type'].replace({'Unverified': 'Unknown'}, regex=True)\n",
    "shark_type_modified['Type'] = shark_type_modified['Type'].replace({'Under investigation': 'Unknown'}, regex=True)\n",
    "shark_type_modified['Type'] = shark_type_modified['Type'].replace({np.nan: 'Unknown'}, regex=True)\n",
    "shark_type_modified['Type'] = shark_type_modified['Type'].replace({r'\\sProvoked': 'Provoked'}, regex=True) # provoked with leading space\n",
    "shark_type_modified['Type'] = shark_type_modified['Type'].replace({'unprovoked': 'Unprovoked'}, regex=True) # case sensitive unprovoked"
   ]
  },
  {
   "cell_type": "code",
   "execution_count": 58,
   "id": "16a0a74d",
   "metadata": {},
   "outputs": [
    {
     "data": {
      "text/plain": [
       "Type\n",
       "Unprovoked    4098\n",
       "Unknown        889\n",
       "Provoked       520\n",
       "Name: count, dtype: int64"
      ]
     },
     "execution_count": 58,
     "metadata": {},
     "output_type": "execute_result"
    }
   ],
   "source": [
    "shark_type_modified['Type'].value_counts(dropna=False)"
   ]
  },
  {
   "cell_type": "markdown",
   "id": "3196da19",
   "metadata": {},
   "source": [
    "Fantastic! Now it's all cleaned into those three categories we wanted. Let's see how many of these attacks are unprovoked, then!"
   ]
  },
  {
   "cell_type": "code",
   "execution_count": 59,
   "id": "3a532804",
   "metadata": {},
   "outputs": [
    {
     "data": {
      "text/plain": [
       "0.7441438169602325"
      ]
     },
     "execution_count": 59,
     "metadata": {},
     "output_type": "execute_result"
    }
   ],
   "source": [
    "unprovoked_proportion = 4098 / (4098 + 889 + 520)\n",
    "unprovoked_proportion"
   ]
  },
  {
   "cell_type": "markdown",
   "id": "8eb7ac16",
   "metadata": {},
   "source": [
    "Looks like around 74% of the attacks were unprovoked. Yikes."
   ]
  },
  {
   "cell_type": "markdown",
   "id": "638a01c3",
   "metadata": {},
   "source": [
    "### Q2.7"
   ]
  },
  {
   "cell_type": "markdown",
   "id": "cefe9e55",
   "metadata": {},
   "source": [
    "This one asks for the Fatal Y/N to be covered, so let's handle these - but first let's take a look at them as usual."
   ]
  },
  {
   "cell_type": "code",
   "execution_count": 60,
   "id": "6469dc9e",
   "metadata": {},
   "outputs": [
    {
     "data": {
      "text/plain": [
       "array(['N', 'Y', 'F', 'M', nan, 'n', 'Nq', 'UNKNOWN', 2017, 'Y x 2', ' N'],\n",
       "      dtype=object)"
      ]
     },
     "execution_count": 60,
     "metadata": {},
     "output_type": "execute_result"
    }
   ],
   "source": [
    "shark_type_modified['Fatal Y/N'].unique()"
   ]
  },
  {
   "cell_type": "markdown",
   "id": "c61a0b60",
   "metadata": {},
   "source": [
    "...Yeah this is super fun. Just to keep consistent with the M x 2 thing from before as well by the way, I'm parsing that Y x 2 as an unknown."
   ]
  },
  {
   "cell_type": "code",
   "execution_count": 61,
   "id": "2c829c7a",
   "metadata": {},
   "outputs": [
    {
     "data": {
      "text/plain": [
       "Fatal Y/N\n",
       "N          4213\n",
       "Y           824\n",
       "NaN         406\n",
       "UNKNOWN      45\n",
       " N            7\n",
       "F             5\n",
       "M             3\n",
       "n             1\n",
       "Nq            1\n",
       "2017          1\n",
       "Y x 2         1\n",
       "Name: count, dtype: int64"
      ]
     },
     "execution_count": 61,
     "metadata": {},
     "output_type": "execute_result"
    }
   ],
   "source": [
    "shark_type_modified['Fatal Y/N'].value_counts(dropna=False)"
   ]
  },
  {
   "cell_type": "markdown",
   "id": "8994bd83",
   "metadata": {},
   "source": [
    "Ok, showtime as usual."
   ]
  },
  {
   "cell_type": "code",
   "execution_count": 62,
   "id": "fe179e84",
   "metadata": {},
   "outputs": [],
   "source": [
    "shark_fatal_modified = shark_type_modified.copy()\n",
    "# yeah I'm not writing out comments for each of these, they're pretty self explanatory\n",
    "shark_fatal_modified['Fatal Y/N'] = shark_fatal_modified['Fatal Y/N'].replace({np.nan: r'Unknown'}, regex=True)\n",
    "shark_fatal_modified['Fatal Y/N'] = shark_fatal_modified['Fatal Y/N'].replace({'UNKNOWN': r'Unknown'}, regex=True)\n",
    "shark_fatal_modified['Fatal Y/N'] = shark_fatal_modified['Fatal Y/N'].replace({'Nq': r'Unknown'}, regex=True)\n",
    "shark_fatal_modified['Fatal Y/N'] = shark_fatal_modified['Fatal Y/N'].replace({'Y x 2': r'Unknown'}, regex=True)\n",
    "shark_fatal_modified['Fatal Y/N'] = shark_fatal_modified['Fatal Y/N'].replace({'F': r'Unknown'}, regex=True)\n",
    "shark_fatal_modified['Fatal Y/N'] = shark_fatal_modified['Fatal Y/N'].replace({'M': r'Unknown'}, regex=True)\n",
    "shark_fatal_modified['Fatal Y/N'] = shark_fatal_modified['Fatal Y/N'].replace({2017: r'Unknown'}, regex=True)\n",
    "shark_fatal_modified['Fatal Y/N'] = shark_fatal_modified['Fatal Y/N'].replace({r'\\sN': 'N'}, regex=True)\n",
    "shark_fatal_modified['Fatal Y/N'] = shark_fatal_modified['Fatal Y/N'].replace({r'n': 'N'}, regex=True)"
   ]
  },
  {
   "cell_type": "code",
   "execution_count": 63,
   "id": "a190970a",
   "metadata": {},
   "outputs": [
    {
     "data": {
      "text/plain": [
       "Fatal Y/N\n",
       "N          4221\n",
       "Y           824\n",
       "UNkNowN     462\n",
       "Name: count, dtype: int64"
      ]
     },
     "execution_count": 63,
     "metadata": {},
     "output_type": "execute_result"
    }
   ],
   "source": [
    "shark_fatal_modified['Fatal Y/N'].value_counts(dropna=False)"
   ]
  },
  {
   "cell_type": "markdown",
   "id": "3123b1bc",
   "metadata": {},
   "source": [
    "Great, there we go. Now we only have Y/N/Unknown."
   ]
  },
  {
   "cell_type": "markdown",
   "id": "c9c6de08",
   "metadata": {},
   "source": [
    "### Q2.8"
   ]
  },
  {
   "cell_type": "markdown",
   "id": "91937fc5",
   "metadata": {},
   "source": [
    "For this one, let's start by cross-tabulating sex and attack type! So, answering the question: Are sharks more likely to launch unprovoked attacks on men or women?"
   ]
  },
  {
   "cell_type": "code",
   "execution_count": 64,
   "id": "6890fffa",
   "metadata": {},
   "outputs": [
    {
     "data": {
      "text/html": [
       "<div>\n",
       "<style scoped>\n",
       "    .dataframe tbody tr th:only-of-type {\n",
       "        vertical-align: middle;\n",
       "    }\n",
       "\n",
       "    .dataframe tbody tr th {\n",
       "        vertical-align: top;\n",
       "    }\n",
       "\n",
       "    .dataframe thead th {\n",
       "        text-align: right;\n",
       "    }\n",
       "</style>\n",
       "<table border=\"1\" class=\"dataframe\">\n",
       "  <thead>\n",
       "    <tr style=\"text-align: right;\">\n",
       "      <th>Sex</th>\n",
       "      <th>F</th>\n",
       "      <th>M</th>\n",
       "    </tr>\n",
       "    <tr>\n",
       "      <th>Type</th>\n",
       "      <th></th>\n",
       "      <th></th>\n",
       "    </tr>\n",
       "  </thead>\n",
       "  <tbody>\n",
       "    <tr>\n",
       "      <th>Provoked</th>\n",
       "      <td>28</td>\n",
       "      <td>448</td>\n",
       "    </tr>\n",
       "    <tr>\n",
       "      <th>Unknown</th>\n",
       "      <td>79</td>\n",
       "      <td>542</td>\n",
       "    </tr>\n",
       "    <tr>\n",
       "      <th>Unprovoked</th>\n",
       "      <td>613</td>\n",
       "      <td>3343</td>\n",
       "    </tr>\n",
       "  </tbody>\n",
       "</table>\n",
       "</div>"
      ],
      "text/plain": [
       "Sex           F     M\n",
       "Type                 \n",
       "Provoked     28   448\n",
       "Unknown      79   542\n",
       "Unprovoked  613  3343"
      ]
     },
     "execution_count": 64,
     "metadata": {},
     "output_type": "execute_result"
    }
   ],
   "source": [
    "pd.crosstab(shark_fatal_modified['Type'], shark_fatal_modified['Sex'])"
   ]
  },
  {
   "cell_type": "code",
   "execution_count": 65,
   "id": "92435950",
   "metadata": {},
   "outputs": [
    {
     "data": {
      "text/plain": [
       "0.7715208862220171"
      ]
     },
     "execution_count": 65,
     "metadata": {},
     "output_type": "execute_result"
    }
   ],
   "source": [
    "unprovoked_male_proportion = 3343 / (3343 + 542 + 448)\n",
    "unprovoked_male_proportion"
   ]
  },
  {
   "cell_type": "code",
   "execution_count": 66,
   "id": "73b33ddc",
   "metadata": {},
   "outputs": [
    {
     "data": {
      "text/plain": [
       "0.8513888888888889"
      ]
     },
     "execution_count": 66,
     "metadata": {},
     "output_type": "execute_result"
    }
   ],
   "source": [
    "unprovoked_female_proportion = 613 / (613 + 79 + 28)\n",
    "unprovoked_female_proportion"
   ]
  },
  {
   "cell_type": "markdown",
   "id": "2f124cc3",
   "metadata": {},
   "source": [
    "And the rates show that actually, sharks are more likely to launch unprovoked attacks on women! This isn't necessarily statistically sound, but just looking at the proportions alone this is the conclusion I can reach.\n",
    "\n",
    "Next question! Is the attack more or less likely to be fatal when the attack is provoked or unprovoked?"
   ]
  },
  {
   "cell_type": "code",
   "execution_count": 67,
   "id": "e47e0590",
   "metadata": {},
   "outputs": [
    {
     "data": {
      "text/html": [
       "<div>\n",
       "<style scoped>\n",
       "    .dataframe tbody tr th:only-of-type {\n",
       "        vertical-align: middle;\n",
       "    }\n",
       "\n",
       "    .dataframe tbody tr th {\n",
       "        vertical-align: top;\n",
       "    }\n",
       "\n",
       "    .dataframe thead th {\n",
       "        text-align: right;\n",
       "    }\n",
       "</style>\n",
       "<table border=\"1\" class=\"dataframe\">\n",
       "  <thead>\n",
       "    <tr style=\"text-align: right;\">\n",
       "      <th>Fatal Y/N</th>\n",
       "      <th>N</th>\n",
       "      <th>UNkNowN</th>\n",
       "      <th>Y</th>\n",
       "    </tr>\n",
       "    <tr>\n",
       "      <th>Type</th>\n",
       "      <th></th>\n",
       "      <th></th>\n",
       "      <th></th>\n",
       "    </tr>\n",
       "  </thead>\n",
       "  <tbody>\n",
       "    <tr>\n",
       "      <th>Provoked</th>\n",
       "      <td>498</td>\n",
       "      <td>9</td>\n",
       "      <td>13</td>\n",
       "    </tr>\n",
       "    <tr>\n",
       "      <th>Unknown</th>\n",
       "      <td>366</td>\n",
       "      <td>400</td>\n",
       "      <td>123</td>\n",
       "    </tr>\n",
       "    <tr>\n",
       "      <th>Unprovoked</th>\n",
       "      <td>3357</td>\n",
       "      <td>53</td>\n",
       "      <td>688</td>\n",
       "    </tr>\n",
       "  </tbody>\n",
       "</table>\n",
       "</div>"
      ],
      "text/plain": [
       "Fatal Y/N      N  UNkNowN    Y\n",
       "Type                          \n",
       "Provoked     498        9   13\n",
       "Unknown      366      400  123\n",
       "Unprovoked  3357       53  688"
      ]
     },
     "execution_count": 67,
     "metadata": {},
     "output_type": "execute_result"
    }
   ],
   "source": [
    "pd.crosstab(shark_fatal_modified['Type'], shark_fatal_modified['Fatal Y/N'])"
   ]
  },
  {
   "cell_type": "code",
   "execution_count": 68,
   "id": "0c13b07d",
   "metadata": {},
   "outputs": [
    {
     "data": {
      "text/plain": [
       "0.025"
      ]
     },
     "execution_count": 68,
     "metadata": {},
     "output_type": "execute_result"
    }
   ],
   "source": [
    "provoked_fatal_proportion = 13 / (13 + 498 + 9)\n",
    "provoked_fatal_proportion"
   ]
  },
  {
   "cell_type": "code",
   "execution_count": 69,
   "id": "7c38fe29",
   "metadata": {},
   "outputs": [
    {
     "data": {
      "text/plain": [
       "0.16788677403611518"
      ]
     },
     "execution_count": 69,
     "metadata": {},
     "output_type": "execute_result"
    }
   ],
   "source": [
    "unprovoked_fatal_proportion = 688 / (688 + 3357 + 53)\n",
    "unprovoked_fatal_proportion"
   ]
  },
  {
   "cell_type": "markdown",
   "id": "6b231e29",
   "metadata": {},
   "source": [
    "And honestly, I could tell that easily. Clearly, there are more fatal unprovoked cases proportionally.\n",
    "\n",
    "Last analysis based question - Is it more or less likely to be fatal when the victim is male or female?"
   ]
  },
  {
   "cell_type": "code",
   "execution_count": 70,
   "id": "57c8bb27",
   "metadata": {},
   "outputs": [
    {
     "data": {
      "text/html": [
       "<div>\n",
       "<style scoped>\n",
       "    .dataframe tbody tr th:only-of-type {\n",
       "        vertical-align: middle;\n",
       "    }\n",
       "\n",
       "    .dataframe tbody tr th {\n",
       "        vertical-align: top;\n",
       "    }\n",
       "\n",
       "    .dataframe thead th {\n",
       "        text-align: right;\n",
       "    }\n",
       "</style>\n",
       "<table border=\"1\" class=\"dataframe\">\n",
       "  <thead>\n",
       "    <tr style=\"text-align: right;\">\n",
       "      <th>Fatal Y/N</th>\n",
       "      <th>N</th>\n",
       "      <th>UNkNowN</th>\n",
       "      <th>Y</th>\n",
       "    </tr>\n",
       "    <tr>\n",
       "      <th>Sex</th>\n",
       "      <th></th>\n",
       "      <th></th>\n",
       "      <th></th>\n",
       "    </tr>\n",
       "  </thead>\n",
       "  <tbody>\n",
       "    <tr>\n",
       "      <th>F</th>\n",
       "      <td>572</td>\n",
       "      <td>59</td>\n",
       "      <td>89</td>\n",
       "    </tr>\n",
       "    <tr>\n",
       "      <th>M</th>\n",
       "      <td>3351</td>\n",
       "      <td>323</td>\n",
       "      <td>659</td>\n",
       "    </tr>\n",
       "  </tbody>\n",
       "</table>\n",
       "</div>"
      ],
      "text/plain": [
       "Fatal Y/N     N  UNkNowN    Y\n",
       "Sex                          \n",
       "F           572       59   89\n",
       "M          3351      323  659"
      ]
     },
     "execution_count": 70,
     "metadata": {},
     "output_type": "execute_result"
    }
   ],
   "source": [
    "pd.crosstab(shark_fatal_modified['Sex'], shark_fatal_modified['Fatal Y/N'])"
   ]
  },
  {
   "cell_type": "code",
   "execution_count": 71,
   "id": "fee06bd2",
   "metadata": {},
   "outputs": [
    {
     "data": {
      "text/plain": [
       "0.15208862220170782"
      ]
     },
     "execution_count": 71,
     "metadata": {},
     "output_type": "execute_result"
    }
   ],
   "source": [
    "male_fatal_proportion = 659 / (659 + 3351 + 323)\n",
    "male_fatal_proportion"
   ]
  },
  {
   "cell_type": "code",
   "execution_count": 72,
   "id": "4f8c60ac",
   "metadata": {},
   "outputs": [
    {
     "data": {
      "text/plain": [
       "0.12361111111111112"
      ]
     },
     "execution_count": 72,
     "metadata": {},
     "output_type": "execute_result"
    }
   ],
   "source": [
    "female_fatal_proportion = 89 / (89 + 572 + 59)\n",
    "female_fatal_proportion"
   ]
  },
  {
   "cell_type": "markdown",
   "id": "6c53716e",
   "metadata": {},
   "source": [
    "And just by 3%, the data suggests that the proportion of these recorded shark attacks is more likely to be fatal if the victim is male rather than female.\n",
    "\n",
    "Now personally, I think sharks can be cool. As long as we are separated by reinforced glass or co-exist 500 miles away from each other. Basically, I don't feel like getting mauled by something that can absolutely kill me. So I think they can be cool but with a big caveat."
   ]
  },
  {
   "cell_type": "markdown",
   "id": "22b04ef3",
   "metadata": {},
   "source": [
    "### Q2.9"
   ]
  },
  {
   "cell_type": "markdown",
   "id": "17157402",
   "metadata": {},
   "source": [
    "Alright for this one I need to figure out the proportion of attacks by white sharks. Based on the preview from earlier, this is going to be a pain since they're all in the species portion and that didn't look very pretty. Let's take a look."
   ]
  },
  {
   "cell_type": "code",
   "execution_count": 76,
   "id": "bce391dd",
   "metadata": {},
   "outputs": [
    {
     "data": {
      "text/plain": [
       "array(['Lemon shark 1.8 m (6ft)', '5m (16.5ft) Great White',\n",
       "       'Undetermined', ...,\n",
       "       'White shark, species identity confirmed by tooth pattern',\n",
       "       'White shark, 160-kg [353-lb], identity confirmed by tooth pattern',\n",
       "       ' White shark'], shape=(1568,), dtype=object)"
      ]
     },
     "execution_count": 76,
     "metadata": {},
     "output_type": "execute_result"
    }
   ],
   "source": [
    "shark_fatal_modified['Species '].unique()"
   ]
  },
  {
   "cell_type": "markdown",
   "id": "3cee2530",
   "metadata": {},
   "source": [
    ".......Super fun."
   ]
  },
  {
   "cell_type": "code",
   "execution_count": 77,
   "id": "eef65711",
   "metadata": {},
   "outputs": [
    {
     "data": {
      "text/plain": [
       "Species \n",
       "NaN                                                   2070\n",
       "White shark                                            180\n",
       "Shark involvement prior to death was not confirmed      98\n",
       "Shark involvement not confirmed                         86\n",
       "Invalid                                                 78\n",
       "                                                      ... \n",
       "24\" to 30\" shark                                         1\n",
       "2.4 m shark                                              1\n",
       "Bull shark, 10'                                          1\n",
       "Lemon shark, >1 m                                        1\n",
       " White shark                                             1\n",
       "Name: count, Length: 1568, dtype: int64"
      ]
     },
     "execution_count": 77,
     "metadata": {},
     "output_type": "execute_result"
    }
   ],
   "source": [
    "shark_fatal_modified['Species '].value_counts(dropna=False)"
   ]
  },
  {
   "cell_type": "markdown",
   "id": "a5a01379",
   "metadata": {},
   "source": [
    "Well the most logical thing to do from what I'm seeing is to just filter by all the cases where the word \"white\" is in the word. So let's see how many instances of that there actually are."
   ]
  },
  {
   "cell_type": "code",
   "execution_count": null,
   "id": "22ea8fde",
   "metadata": {},
   "outputs": [
    {
     "data": {
      "text/plain": [
       "0       False\n",
       "1        True\n",
       "2       False\n",
       "3        True\n",
       "4       False\n",
       "        ...  \n",
       "5504      NaN\n",
       "5505      NaN\n",
       "5506    False\n",
       "5507    False\n",
       "5508    False\n",
       "Name: Species , Length: 5507, dtype: object"
      ]
     },
     "execution_count": 79,
     "metadata": {},
     "output_type": "execute_result"
    }
   ],
   "source": [
    "# yeah I can't even lie I don't know what the str.split() in the hint was supposed to be... I'm just gonna do this instead :)\n",
    "temp_white_shark_analysis = shark_fatal_modified['Species '].str.contains('white', case=False)\n",
    "temp_white_shark_analysis"
   ]
  },
  {
   "cell_type": "code",
   "execution_count": 80,
   "id": "91c77d08",
   "metadata": {},
   "outputs": [
    {
     "data": {
      "text/plain": [
       "Species \n",
       "False    2728\n",
       "NaN      2070\n",
       "True      709\n",
       "Name: count, dtype: int64"
      ]
     },
     "execution_count": 80,
     "metadata": {},
     "output_type": "execute_result"
    }
   ],
   "source": [
    "temp_white_shark_analysis.value_counts(dropna=False)"
   ]
  },
  {
   "cell_type": "markdown",
   "id": "24c51896",
   "metadata": {},
   "source": [
    "So it seems like there are 709 white shark attack cases, 2728 non-white shark attacks, and 2070 NaNs. Proportionally, that ends up being:"
   ]
  },
  {
   "cell_type": "code",
   "execution_count": 82,
   "id": "84d2e628",
   "metadata": {},
   "outputs": [
    {
     "data": {
      "text/plain": [
       "0.12874523333938623"
      ]
     },
     "execution_count": 82,
     "metadata": {},
     "output_type": "execute_result"
    }
   ],
   "source": [
    "white_shark_proportion = 709 / (709 + 2728 + 2070)\n",
    "white_shark_proportion"
   ]
  },
  {
   "cell_type": "markdown",
   "id": "c026dcc7",
   "metadata": {},
   "source": [
    "So white sharks make up about 13% of attacks. Honestly, more than expected."
   ]
  }
 ],
 "metadata": {
  "colab": {
   "provenance": []
  },
  "kernelspec": {
   "display_name": "venv",
   "language": "python",
   "name": "python3"
  },
  "language_info": {
   "codemirror_mode": {
    "name": "ipython",
    "version": 3
   },
   "file_extension": ".py",
   "mimetype": "text/x-python",
   "name": "python",
   "nbconvert_exporter": "python",
   "pygments_lexer": "ipython3",
   "version": "3.13.3"
  }
 },
 "nbformat": 4,
 "nbformat_minor": 5
}
